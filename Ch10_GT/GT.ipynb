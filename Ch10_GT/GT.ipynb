{
 "cells": [
  {
   "cell_type": "markdown",
   "metadata": {},
   "source": [
    "---"
   ]
  },
  {
   "cell_type": "markdown",
   "metadata": {},
   "source": [
    "# Graph Theory\n",
    "- Graph theory is a way of representing complex relationships for solving a particular algorithmic problem. It is a way of simplifying data that is only relevant to what you’re trying to solve.\n",
    "- In other words, it eliminates the perception of something that is deemed to be difficult to the reality that it can be easily computed."
   ]
  },
  {
   "cell_type": "markdown",
   "metadata": {},
   "source": [
    "### Disjoint Sets in Mathematics\n",
    "- A set is a collection of elements grouped to form a single object. \n",
    "- The elements may be numbers, symbols, or functions. There may be no elements at all (which is known as an empty set). \n",
    "- If two sets have no common elements, they are called disjoint sets. We can also say that intersection of the two sets is an empty set if they are disjoint sets."
   ]
  },
  {
   "cell_type": "markdown",
   "metadata": {},
   "source": [
    "### Kruskal’s algorithm\n",
    "- Kruskal’s algorithm is primarily used for finding a minimum spanning tree. The minimum spanning tree of a graph connects all its vertices together with no cycles and the minimum possible total edge weight.\n",
    "- One common implementation of Kruskal’s algorithm uses the “union-find” technique. Three functions are necessary : make_set, find and union. The three functions use a dictionary : “parent”, where keys are vertices and values are the corresponding vertex “root”. The “root” of a graph is the unique vertex that does not have a parent (see implementation details below).\n",
    "- Make_set : function that sets the value of a given vertex to “None” in the dictionary “parent” (it creates a singleton). In other terms, at the beginning of the algorithm, each vertex has no parent.\n",
    "- Find : function that recursively searches for the “root” of the graph (as defined above) of a given vertex. The “root” of the graph will be the last element flagged as “None” in the parent dictionary.We will see later that if we want clusters then it means that there are as many roots as clusters and it will be our condition for stopping early Kruskal’s algorithm. If we want the minimum spanning tree then we only want one root and consequently one cluster.\n",
    "- Union : function that groups two vertices by their roots. It starts by searching the roots of the two vertices with the “Find” function above and if the two roots are different then we change the root of the second vertex with the root of the first vertex.\n"
   ]
  },
  {
   "cell_type": "markdown",
   "metadata": {},
   "source": [
    "### Graph Theory Algorithms\n",
    "\n",
    "#### Union-Find (Disjoint Set Union)\n",
    "\n",
    "**Objective**: Efficiently manage a collection of disjoint (non-overlapping) sets. Primarily used to determine whether two elements are in the same set and to merge two sets.\n",
    "\n",
    "- **Find**: Determine which set a particular element belongs to. This is used to check if two elements are in the same set.\n",
    "- **Union**: Merge two sets into a single set. The smaller set (or the set with the higher rank if using rank optimization) is typically merged into the larger one to keep the tree flat.\n",
    "\n",
    "**Key Operations**:\n",
    "- **Initialization**: Each element forms its own set.\n",
    "- **Find Operation**: Follows the chain of parent pointers from the element up until it reaches a root element, which is the representative (or parent) of the set. Path compression can be applied to flatten the structure, making future searches faster.\n",
    "- **Union Operation**: Joins two sets together by linking the root of one set to the root of another. By using techniques like union by rank or size, the height of trees can be minimized to optimize the operation.\n",
    "\n",
    "**Applications**: Network connectivity, Kruskal's Minimum Spanning Tree algorithm, finding cycles in a graph, etc.\n",
    "\n",
    "#### Kruskal's Algorithm\n",
    "\n",
    "**Objective**: Find the Minimum Spanning Tree (MST) of a connected, undirected graph. An MST is a subset of the edges that connects all vertices together, without any cycles, and with the minimum possible total edge weight.\n",
    "\n",
    "**Steps**:\n",
    "1. **Sort all the edges in non-decreasing order of their weight.**\n",
    "2. **Pick the smallest edge. Check if it forms a cycle with the MST so far. If not, add it to the MST.**\n",
    "3. **Repeat step 2 until there are (V-1) edges in the MST, where V is the number of vertices.**\n",
    "\n",
    "**Key Concepts**:\n",
    "- **Greedy Algorithm**: Kruskal's algorithm is greedy because it picks the smallest weight edge that doesn't cause a cycle at each step.\n",
    "- **Cycle Detection**: Utilizes the Union-Find algorithm to detect cycles. Before adding an edge, it checks if the vertices of the edge are in the same set. If they are, adding the edge would create a cycle.\n",
    "\n",
    "**Applications**: Design of networks (telecommunication, electrical, water supply), approximation algorithms for NP-hard problems, and other scenarios where a minimal spanning structure is needed.\n"
   ]
  },
  {
   "cell_type": "code",
   "execution_count": null,
   "metadata": {},
   "outputs": [],
   "source": [
    "#Finding the Set to Which an Element Belongs\n",
    "def find_parent(parent, x):\n",
    "    # If the node is not the root node, call recursively until finding the root node\n",
    "    if parent[x] != x:\n",
    "        parent[x] = find_parent(parent, parent[x])\n",
    "    return parent[x]\n",
    "\n",
    "#Merging Two Sets\n",
    "def union_parent(parent, a, b):\n",
    "    a = find_parent(parent, a)\n",
    "    b = find_parent(parent, b)\n",
    "    if a < b:\n",
    "        parent[b] = a\n",
    "    else:\n",
    "        parent[a] = b\n",
    "\n",
    "#initialization and execution\n",
    "n, m = map(int, input().split())\n",
    "parent = [0] * (n + 1) # Initializing the parent table\n",
    "\n",
    "# Initializing the parent table so that each element is its own parent\n",
    "for i in range(0, n + 1):\n",
    "    parent[i] = i\n",
    "\n",
    "# Process each operation one by one\n",
    "for i in range(m):\n",
    "    oper, a, b = map(int, input().split())\n",
    "    # If the operation is Union\n",
    "    if oper == 0:\n",
    "        union_parent(parent, a, b)\n",
    "    # If the operation is Find\n",
    "    elif oper == 1:\n",
    "        if find_parent(parent, a) == find_parent(parent, b):\n",
    "            print('YES')\n",
    "        else:\n",
    "            print('NO')\n"
   ]
  },
  {
   "cell_type": "markdown",
   "metadata": {},
   "source": [
    "---"
   ]
  },
  {
   "cell_type": "markdown",
   "metadata": {},
   "source": []
  },
  {
   "cell_type": "code",
   "execution_count": null,
   "metadata": {},
   "outputs": [],
   "source": [
    "# Find the set to which a specific element belongs\n",
    "def find_parent(parent, x):\n",
    "    # If it's not the root node, call recursively until the root node is found\n",
    "    if parent[x] != x:\n",
    "        parent[x] = find_parent(parent, parent[x])\n",
    "    return parent[x]\n",
    "\n",
    "# Combine the sets to which two elements belong\n",
    "def union_parent(parent, a, b):\n",
    "    a = find_parent(parent, a)\n",
    "    b = find_parent(parent, b)\n",
    "    if a < b:\n",
    "        parent[b] = a\n",
    "    else:\n",
    "        parent[a] = b\n",
    "\n",
    "# Input the number of nodes and the number of edges (Union operations)\n",
    "v, e = map(int, input().split())\n",
    "parent = [0] * (v + 1) # Initialize the parent table\n",
    "\n",
    "# List to hold all edges and variable to hold the final cost\n",
    "edges = []\n",
    "result = 0\n",
    "\n",
    "# In the parent table, initialize each parent as itself\n",
    "for i in range(1, v + 1):\n",
    "    parent[i] = i\n",
    "\n",
    "# Input information for all edges\n",
    "for _ in range(e):\n",
    "    a, b, cost = map(int, input().split())\n",
    "    # To sort by cost, set the first element of the tuple as the cost\n",
    "    edges.append((cost, a, b))\n",
    "\n",
    "# Sort the edges by cost\n",
    "edges.sort()\n",
    "last = 0 # The costliest edge in the minimum spanning tree\n",
    "\n",
    "# For each edge, check\n",
    "for edge in edges:\n",
    "    cost, a, b = edge\n",
    "    # Only include in the set if no cycle occurs\n",
    "    if find_parent(parent, a) != find_parent(parent, b):\n",
    "        union_parent(parent, a, b)\n",
    "        result += cost\n",
    "        last = cost\n",
    "\n",
    "# Subtract the cost of the last added edge to find the minimum cost\n",
    "print(result - last)\n"
   ]
  },
  {
   "cell_type": "markdown",
   "metadata": {},
   "source": [
    "---"
   ]
  },
  {
   "cell_type": "markdown",
   "metadata": {},
   "source": [
    "### Directed Acyclic Graph (DAG)\n",
    "- A Directed Acyclic Graph is a graph that is directed and contains no cycles. \n",
    "- This means there is a direction associated with each edge, and it is impossible to start at any vertex and follow a consistently directed path that eventually loops back to that same vertex. \n",
    "- DAGs are often used to represent structures with dependencies among their components, such as task scheduling, course prerequisites, and more."
   ]
  },
  {
   "cell_type": "markdown",
   "metadata": {},
   "source": [
    "### Topological Sorting\n",
    "\n",
    "- Topological sorting is an algorithm to linearly order the vertices of a DAG so that for every directed edge from vertex U to vertex V, U comes before V in the ordering. This sorting is fundamental in scheduling tasks where certain tasks must be completed before others can begin. There is no unique topological ordering for a graph; a DAG can have more than one topological sort.\n",
    "\n",
    "The algorithm typically involves the following steps:\n",
    "\n",
    "1. Calculate Indegree: Indegree of a vertex is the number of edges coming into that vertex. For the algorithm to start, it needs to find at least one node with an indegree of 0 (no dependencies).\n",
    "2. Queue: Nodes with an indegree of 0 are added to a queue because they are ready to be processed (no incoming edges).\n",
    "3. Process and Update: Nodes are removed from the queue one by one, and for each node, the algorithm reduces the indegree of its successors (nodes it points to). If any of the successors' indegree becomes 0, that node is added to the queue.\n",
    "4. Repeat: Steps 3 and 4 are repeated until the queue is empty.\n"
   ]
  },
  {
   "cell_type": "code",
   "execution_count": null,
   "metadata": {},
   "outputs": [],
   "source": [
    "from collections import deque\n",
    "import copy\n",
    "\n",
    "# Receive the number of nodes\n",
    "v = int(input())\n",
    "# Initialize all nodes' indegree to 0\n",
    "indegree = [0] * (v + 1)\n",
    "# Initialize the adjacency list (graph) to store edge information for each node\n",
    "graph = [[] for i in range(v + 1)]\n",
    "# Initialize each lecture's time to 0\n",
    "time = [0] * (v + 1)\n",
    "\n",
    "# Receive information for all edges of the directed graph\n",
    "for i in range(1, v + 1):\n",
    "    data = list(map(int, input().split()))\n",
    "    time[i] = data[0] # The first number contains time information\n",
    "    for x in data[1:-1]:\n",
    "        indegree[i] += 1\n",
    "        graph[x].append(i)\n",
    "\n",
    "# Topological sort function\n",
    "def topology_sort():\n",
    "    result = copy.deepcopy(time) # List to hold the result of the algorithm\n",
    "    q = deque() # Use deque library for queue functionality\n",
    "\n",
    "    # Initially, insert nodes with an indegree of 0 into the queue\n",
    "    for i in range(1, v + 1):\n",
    "        if indegree[i] == 0:\n",
    "            q.append(i)\n",
    "\n",
    "    # Repeat until the queue is empty\n",
    "    while q:\n",
    "        # Remove an element from the queue\n",
    "        now = q.popleft()\n",
    "        # Subtract 1 from the indegree of nodes connected to the current node\n",
    "        for i in graph[now]:\n",
    "            result[i] = max(result[i], result[now] + time[i])\n",
    "            indegree[i] -= 1\n",
    "            # Insert new nodes with an indegree of 0 into the queue\n",
    "            if indegree[i] == 0:\n",
    "                q.append(i)\n",
    "\n",
    "    # Print the result of the topological sort\n",
    "    for i in range(1, v + 1):\n",
    "        print(result[i])\n",
    "\n",
    "topology_sort()\n"
   ]
  }
 ],
 "metadata": {
  "language_info": {
   "name": "python"
  }
 },
 "nbformat": 4,
 "nbformat_minor": 2
}
