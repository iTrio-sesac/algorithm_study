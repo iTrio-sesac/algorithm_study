{
 "cells": [
  {
   "cell_type": "markdown",
   "metadata": {},
   "source": [
    "# Dynamic Programming"
   ]
  },
  {
   "cell_type": "markdown",
   "metadata": {},
   "source": [
    "**다이나믹 프로그래밍은 메모리를 적절히 사용하여 수행 시간 효율성을 비약적으로 향상시키는 방법입니다.**\n",
    " - 의미 계산된 결과(작은 문제)는 별도의 메모리 영역에 저장하여 다시 계산하지 않도록 합니다.\n",
    " - 다이나믹 프로그래밍의 구현은 일반적으로 두 가지 방식(탑다운과 보텀업)으로 구성됩니다.\n",
    "- 다이나믹 프로그래밍은 동적 계획법이라고도 부르는데 일반적인 프로그래밍 분야에서의 동적(Dynamic)이란 의미와 차이 있습니다\n",
    "- 자료구조에서 동적 할당(Dynamic Allocation)은 '프로그램이 실행되는 도중에 실행에 필요한\n",
    "메모리를 할당하는 기법'을 의미합니다.\n",
    "- 반면에 다이나믹 프로그래밍에서 '다이나믹'은 별다른 의미 없이 사용된 단어입니다."
   ]
  },
  {
   "cell_type": "markdown",
   "metadata": {},
   "source": [
    "**탑다운(메모이제이션) 방식은 하향식이라고도 하며 보텀업 방식은 상향식이라고도 합니다**\n",
    "- 다이나믹 프로그래밍의 전형적인 형태는 보텀업 방식입니다.\n",
    "- 결과 저장용 리스트는 DP 테이블이라고 부릅니다.\n",
    "- 메모이제이션은 이전에 계산된 결과를 일시적으로 기록해 놓는 넓은 개념을 의미합니다.\n",
    "- 따라서 메모이제이션은 다이나믹 프로그래밍에 국한된 개념은 아닙니다.\n",
    "- 한 번 계산된 결과를 담아 놓기만 하고 다이나믹 프로그래밍을 위해 활용하지 않을 수도 있습니다."
   ]
  },
  {
   "cell_type": "markdown",
   "metadata": {},
   "source": [
    "**다이나믹 프로그래밍의 조건**\n",
    "1. 최적 부분 구조 (Optimal Substructure)\n",
    "   - 큰 문제를 작은 문제로 나눌 수 있으며 작은 문제의 답을 모아서 큰 문제를 해결할 수 있습니다.\n",
    "2. 중복되는 부분 문제 (Overlapping Subproblem)\n",
    "   - 동일한 작은 문제를 반복적으로 해결해야 합니다."
   ]
  },
  {
   "cell_type": "markdown",
   "metadata": {},
   "source": [
    "**다이나믹 프로그래밍 vs 분할 정복**\n",
    "- 다이나믹 프로그래밍과 분할 정복은 모두 **최적 부분 구조를** 가질 때 사용할 수 있습니다.\n",
    "- 큰 문제를 작은 문제로 나눌 수 있으며 작은 문제의 답을 모아서 큰 문제를 해결할 수 있는 상황\n",
    "- 다이나믹 프로그래밍과 분할 정복의 차이점은 **부분 문제의 중복입니다**.\n",
    "- 다이나믹 프로그래밍 문제에서는 각 부분 문제들이 서로 영향을 미치며 부분 문제가 중복됩니다.\n",
    "- 분할 정복 문제에서는 동일한 부분 문제가 반복적으로 계산되지 않습니다."
   ]
  },
  {
   "cell_type": "markdown",
   "metadata": {},
   "source": [
    "**피보나치 수열**\n",
    "- 피보나치 수열 다음과 같은 형태의 수열이며, 다이나믹 프로그래밍으로 효과적으로 계산할 수 있습니다.\n",
    "- 1, 1, 2, 3, 5, 8, 13, 21, 34, 55, 89, ...\n",
    "\n",
    "Dynamic programming solves this by storing (or \"memoizing\") the results of each unique calculation in an array or dictionary, so each value is only calculated once. \n",
    "- defined a function called **`fib`** that takes one argument, **`n`**, which represents the position in the Fibonacci sequence.\n",
    "- Inside this function, first handle the base cases. If **`n`** is 0, return 0. If **`n`** is 1, return 1.\n",
    "- For any other value of **`n`**, use recursion to return the sum of **`fib(n-1)`** and **`fib(n-2)`**."
   ]
  },
  {
   "cell_type": "code",
   "execution_count": null,
   "metadata": {},
   "outputs": [],
   "source": [
    "def fib(n):\n",
    "    if n == 0:\n",
    "        return 0\n",
    "    elif n == 1:\n",
    "        return 1\n",
    "    else:\n",
    "        return fib(n-1) + fib(n-2)"
   ]
  },
  {
   "cell_type": "markdown",
   "metadata": {},
   "source": [
    "The recursive method works, but it's not efficient for large n because it recalculates the same values many times. "
   ]
  },
  {
   "cell_type": "code",
   "execution_count": null,
   "metadata": {},
   "outputs": [],
   "source": [
    "def fib(n, memo={}):\n",
    "    if n in memo:\n",
    "        return memo[n]\n",
    "    if n <= 1:\n",
    "        return n\n",
    "    memo[n] = fib(n-1, memo) + fib(n-2, memo)\n",
    "    return memo[n]"
   ]
  },
  {
   "cell_type": "markdown",
   "metadata": {},
   "source": [
    "---"
   ]
  },
  {
   "cell_type": "markdown",
   "metadata": {},
   "source": [
    "## 1로 만들기 \n",
    "- 정수 X가 주어졌을 때, 정수 X에 사용할 수 있는 연산은 다음과 같이 4가지다.\n",
    "    1. X가 5로 나누어 떨어지면, 5로 나눈다.\n",
    "    2. X가 3으로 나누어 떨어지면, 3으로 나눈다.\n",
    "    3. X가 2로 나누어 떨어지면, 2로 나눈다.\n",
    "    4. X에서 1을 뺀다.\n",
    "- 정수 X가 주어졌을 때, 연산 4개를 적절히 사용해서 값을 1로 만들고자 한다. 연산을 사용하는 횟수의 최솟값을 출력하라. 예를 들어 정수가 26이면 다음과 같이 계싼해서 3번의 연산이 최솟값이다. \n",
    "    - 26 -> 25 -> 5 -> 1"
   ]
  },
  {
   "cell_type": "markdown",
   "metadata": {},
   "source": [
    "입력 조건\n",
    "- 첫째 줄에 정수 X가 주어진다. (1 <= X <= 30,000)\n",
    "\n",
    "입력 예시   \n",
    "```26```\n",
    "\n",
    "출력 조건\n",
    "- 첫째 줄에 연산을 하는 횟수의 최솟값을 출력한다.\n",
    "\n",
    "출력 예시   \n",
    "```3```"
   ]
  },
  {
   "cell_type": "code",
   "execution_count": null,
   "metadata": {},
   "outputs": [],
   "source": [
    "# 정수 X를 입력 받기\n",
    "x = int(input())\n",
    "\n",
    "# 앞서 계산된 결과를 저장하기 위한 DP 테이블 초기화\n",
    "d = [0] * 1000001\n",
    "\n",
    "# 다이나믹 프로그래밍(Dynamic Programming) 진행(보텀업)\n",
    "for i in range(2, x + 1):\n",
    "    # 현재의 수에서 1을 빼는 경우\n",
    "    d[i] = d[i - 1] + 1\n",
    "    # 현재의 수가 2로 나누어 떨어지는 경우\n",
    "    if i % 2 == 0:\n",
    "        d[i] = min(d[i], d[i // 2] + 1)\n",
    "    # 현재의 수가 3으로 나누어 떨어지는 경우\n",
    "    if i % 3 == 0:\n",
    "        d[i] = min(d[i], d[i // 3] + 1)\n",
    "    # 현재의 수가 5로 나누어 떨어지는 경우\n",
    "    if i % 5 == 0:\n",
    "        d[i] = min(d[i], d[i // 5] + 1)\n",
    "\n",
    "print(d[x])"
   ]
  },
  {
   "cell_type": "markdown",
   "metadata": {},
   "source": [
    "---"
   ]
  },
  {
   "cell_type": "markdown",
   "metadata": {},
   "source": [
    "## 개미 전사\n",
    "개미 전사는 부족한 식량을 충당하고자 메뚜기 마을의 식량창고를 몰래 공격하려 한다. 메뚜기 마을에는 여러 개의 식량창고가 있는데, 식량창고는 일직선으로 이어져 있다.   \n",
    "\n",
    "각 식량창고에는 정해진 수의 식량을 저장하고 있으며, 개미 전사는 식량창고를 선택적으로 약탈하여 식량을 빼앗을 것이다. 이때 메뚜기 정찰병들은 일직선상에 존재하는 식량창고 중에서 서로 인접한 식량창고가 공격받으면 바로 알아챌 수 있다.   \n",
    "\n",
    "따라서 개미 전사가 정찰병에게 들키지 않고 식량창고를 약탈하기 위해서는 최소 한 칸 이상 떨어진 식량창고를 약탈해야 한다.\n",
    "예를 들어, 식량창고 4개가 존재한다고 가정하자. 이를 배열(리스트)로 나타내면 다음과 같다. {1, 3, 1, 5}   \n",
    "\n",
    "이때 개미 전사는 두 번째 식량창고와 네 번째 식량창고를 선택했을 때 최댓값인 총 8개의 식량을 빼앗을 수 있다. 개미 전사는 식량창고가 이렇게 일직선 상일 때 최대한 많은 식량을 얻기를 원한다.   \n",
    "개미 전사를 위해 식량창고 N개에 대한 정보가 주어졌을 때 얻을 수 있는 식량의 최댓값을 구하는 프로그램을 작성하라."
   ]
  },
  {
   "cell_type": "markdown",
   "metadata": {},
   "source": [
    "입력 조건\n",
    "- 첫째 줄에 식량창고의 개수 N이 주어진다. (3 <= N <= 100)\n",
    "- 둘째 줄에 공백을 기준으로 각 식량창고에 저장된 식량의 개수 K가 주어진다. (0 <= K <= 1,000)\n",
    "입력 예시\n",
    "```\n",
    "4\n",
    "1 3 1 5\n",
    "```\n",
    "\n",
    "출력 조건 \n",
    "- 첫째 줄에 개미 전사가 얻을 수 있는 식량의 최댓값을 출력한다. \n",
    "출력 예시\n",
    "```\n",
    "8\n",
    "```"
   ]
  },
  {
   "cell_type": "code",
   "execution_count": null,
   "metadata": {},
   "outputs": [],
   "source": [
    "# 정수 N을 입력 받기\n",
    "n = int(input())\n",
    "# 모든 식량 정보 입력 받기\n",
    "array = list(map(int, input().split()))\n",
    "\n",
    "# 앞서 계산된 결과를 저장하기 위한 DP 테이블 초기화\n",
    "d = [0] * 100\n",
    "\n",
    "# 다이나믹 프로그래밍(Dynamic Programming) 진행 (보텀업)\n",
    "d[0] = array[0]\n",
    "d[1] = max(array[0], array[1]) \n",
    "for i in range(2, n):\n",
    "    d[i] = max(d[i - 1], d[i - 2] + array[i])\n",
    "\n",
    "# 계산된 결과 출력\n",
    "print(d[n - 1])"
   ]
  },
  {
   "cell_type": "code",
   "execution_count": null,
   "metadata": {},
   "outputs": [],
   "source": [
    "# Receive an integer N as input\n",
    "n = int(input())\n",
    "\n",
    "# Receive all the food supply information as input\n",
    "array = list(map(int, input().split()))\n",
    "\n",
    "# Initialize a DP table to store the previously calculated results\n",
    "d = [0] * 100\n",
    "\n",
    "# Perform Dynamic Programming (bottom-up)\n",
    "# Initialize the first two elements of the DP table\n",
    "d[0] = array[0]  # The maximum food stolen when there's only one warehouse\n",
    "d[1] = max(array[0], array[1])  # The maximum food stolen when there are two warehouses\n",
    "\n",
    "for i in range(2, n):\n",
    "    # Calculate the maximum food stolen at each warehouse\n",
    "    # by choosing between two options: \n",
    "    # 1. Not stealing from the current warehouse (d[i-1])\n",
    "    # 2. Stealing from the current warehouse and the one before the previous one (d[i-2] + array[i])\n",
    "    d[i] = max(d[i - 1], d[i - 2] + array[i])\n",
    "\n",
    "# Print the calculated result, which represents the maximum food stolen\n",
    "print(d[n - 1])\n"
   ]
  },
  {
   "cell_type": "markdown",
   "metadata": {},
   "source": [
    "---"
   ]
  },
  {
   "cell_type": "markdown",
   "metadata": {},
   "source": [
    "## 바닥 공사\n",
    "가로의 길이가 N, 세로의 길이가 2인 직사각형 형태의 얇은 바닥이 있다. 태일이는 이 얇은 바닥을 1 X 2의 덮개, 2 X 1의 덮개, 2 X 2의 덮개를 이용해 채우고자 한다.    \n",
    "\n",
    "이때 바닥을 채우는 모든 경우의 수를 구하는 프로그램을 작성하시오. 예를 들어 2 X 3 크기의 바닥을 채우는 경우의 수는 5가지이다. "
   ]
  },
  {
   "cell_type": "markdown",
   "metadata": {},
   "source": [
    "입력 조건\n",
    "- 첫째 줄에 N이 주어진다. (1 <= N <= 1,000)\n",
    "입력 예시 \n",
    "```\n",
    "3\n",
    "```\n",
    "\n",
    "출력 조건\n",
    "- 첫째 줄에 2 X N 크기의 바닥을 채우는 방법의 수를 796,796으로 나눈 나머지를 출력한다. \n",
    "\n",
    "출력 예시   \n",
    "```\n",
    "5\n",
    "```"
   ]
  },
  {
   "cell_type": "code",
   "execution_count": null,
   "metadata": {},
   "outputs": [],
   "source": [
    "# 정수 N을 입력 받기\n",
    "n = int(input())\n",
    "\n",
    "# 앞서 계산된 결과를 저장하기 위한 DP 테이블 초기화\n",
    "d = [0] * 1001\n",
    "\n",
    "# 다이나믹 프로그래밍(Dynamic Programming) 진행 (보텀업)\n",
    "d[1] = 1\n",
    "d[2] = 3\n",
    "for i in range(3, n + 1):\n",
    "    d[i] = (d[i - 1] + 2 * d[i - 2]) % 796796\n",
    "\n",
    "# 계산된 결과 출력\n",
    "print(d[n])"
   ]
  },
  {
   "cell_type": "markdown",
   "metadata": {},
   "source": [
    "---"
   ]
  },
  {
   "cell_type": "markdown",
   "metadata": {},
   "source": [
    "##  효율적인 화폐 구성\n",
    "N가지 종류의 화폐가 있다. 이 화폐들의 개수를 최소한으로 이용해서 그 가치의 합이 M원이 되도록 하려고 한다. 이때 각 화폐는 몇 개라도 사용할 수 있으며, 사용한 화폐의 구성은 같지만 순서만 다른 것은 같은 경우로 구분한다. 예를 들어 2원, 3원 단위의 화폐가 있을 때는 15원을 만들기 위해 3원을 5개 사용하는 것이 가장 최소한의 화폐 개수이다. "
   ]
  },
  {
   "cell_type": "markdown",
   "metadata": {},
   "source": [
    "입력 조건\n",
    "- 첫째 줄에 N,M이 주어진다. (1<= N 100, 1 <= M <= 10,000)\n",
    "- 이후 N개의 줄에는 각 화폐의 가치가 주어진다. 화폐 가치는 10,000보다 작거나 같은 자연수이다. \n",
    "입력 예시\n",
    "```\n",
    "2 15\n",
    "2\n",
    "3\n",
    "``` \n",
    "\n",
    "출력 조건\n",
    "- 첫째 줄에 M원을 만들기 위한 최소한의 화폐 개수를 출력한다.\n",
    "- 불가능할 때는 -1을 출력한다. \n",
    "출력 예시\n",
    "```\n",
    "5\n",
    "```"
   ]
  },
  {
   "cell_type": "code",
   "execution_count": 20,
   "metadata": {},
   "outputs": [],
   "source": [
    "# 정수 N, M을 입력 받기\n",
    "n, m = map(int, input().split())\n",
    "# N개의 화폐 단위 정보를 입력 받기\n",
    "array = []\n",
    "for i in range(n):\n",
    "    array.append(int(input()))\n",
    "\n",
    "# 한 번 계산된 결과를 저장하기 위한 DP 테이블 초기화\n",
    "d = [10001] * (m + 1)\n",
    "\n",
    "# 다이나믹 프로그래밍(Dynamic Programming) 진행(보텀업)\n",
    "d[0] = 0\n",
    "for i in range(n):\n",
    "    for j in range(array[i], m + 1):\n",
    "        if d[j - array[i]] != 10001: # (i - k)원을 만드는 방법이 존재하는 경우\n",
    "            d[j] = min(d[j], d[j - array[i]] + 1)\n",
    "\n",
    "# 계산된 결과 출력\n",
    "if d[m] == 10001: # 최종적으로 M원을 만드는 방법이 없는 경우\n",
    "    print(-1)\n",
    "else:\n",
    "    print(d[m])"
   ]
  },
  {
   "cell_type": "code",
   "execution_count": null,
   "metadata": {},
   "outputs": [],
   "source": [
    "# Read input values\n",
    "N, M = map(int, input().split())\n",
    "denominations = []\n",
    "for _ in range(N):\n",
    "    denominations.append(int(input()))\n",
    "\n",
    "# Initialize an array to store the minimum number of coins/notes required for each value from 0 to M\n",
    "dp = [10001] * (M + 1)  # Initialize with a large value, since the maximum M is 10,000\n",
    "\n",
    "# Initialize dp[0] as 0 since you don't need any coins to make up 0\n",
    "dp[0] = 0\n",
    "\n",
    "# Iterate through each denomination\n",
    "for denom in denominations:\n",
    "    # Update dp[i] for each value from denom to M\n",
    "    for i in range(denom, M + 1):\n",
    "        dp[i] = min(dp[i], dp[i - denom] + 1)\n",
    "\n",
    "# Check if it's possible to make up M and print the result\n",
    "if dp[M] == 10001:\n",
    "    print(-1)  # If it's not possible, print -1\n",
    "else:\n",
    "    print(dp[M])  # Otherwise, print the minimum number of coins/notes\n"
   ]
  },
  {
   "cell_type": "markdown",
   "metadata": {},
   "source": [
    "---"
   ]
  },
  {
   "cell_type": "markdown",
   "metadata": {},
   "source": [
    "Dynamic programming solves this by storing (or \"memoizing\") the results of each unique calculation in an array or dictionary, so each value is only calculated once. \n",
    "- defined a function called **`fib`** that takes one argument, **`n`**, which represents the position in the Fibonacci sequence.\n",
    "- Inside this function, first handle the base cases. If **`n`** is 0, return 0. If **`n`** is 1, return 1.\n",
    "- For any other value of **`n`**, use recursion to return the sum of **`fib(n-1)`** and **`fib(n-2)`**."
   ]
  },
  {
   "cell_type": "code",
   "execution_count": 11,
   "metadata": {},
   "outputs": [],
   "source": [
    "def fib(n):\n",
    "    if n == 0:\n",
    "        return 0\n",
    "    elif n == 1:\n",
    "        return 1\n",
    "    else:\n",
    "        return fib(n-1) + fib(n-2)"
   ]
  },
  {
   "cell_type": "markdown",
   "metadata": {},
   "source": [
    "The recursive method works, but it's not efficient for large n because it recalculates the same values many times. "
   ]
  },
  {
   "cell_type": "code",
   "execution_count": 1,
   "metadata": {},
   "outputs": [],
   "source": [
    "def fib(n, memo={}):\n",
    "    if n in memo:\n",
    "        return memo[n]\n",
    "    if n <= 1:\n",
    "        return n\n",
    "    memo[n] = fib(n-1, memo) + fib(n-2, memo)\n",
    "    return memo[n]"
   ]
  },
  {
   "cell_type": "markdown",
   "metadata": {},
   "source": [
    "here before it calculates fib(n), it checks if it's already in the memo dictionary. If it is, then it just returns that value. If not, it calculates it, stores it in memo, and then returns it.\n",
    "\n",
    "This way, each Fibonacci number is calculated only once, making the function much faster for large n."
   ]
  },
  {
   "cell_type": "code",
   "execution_count": 8,
   "metadata": {},
   "outputs": [
    {
     "data": {
      "text/plain": [
       "1409869790947669143312035591975596518914"
      ]
     },
     "execution_count": 8,
     "metadata": {},
     "output_type": "execute_result"
    }
   ],
   "source": [
    "fib(189)"
   ]
  },
  {
   "cell_type": "code",
   "execution_count": 10,
   "metadata": {},
   "outputs": [
    {
     "data": {
      "text/plain": [
       "218922995834555169026"
      ]
     },
     "execution_count": 10,
     "metadata": {},
     "output_type": "execute_result"
    }
   ],
   "source": [
    "fib(99)"
   ]
  },
  {
   "cell_type": "markdown",
   "metadata": {},
   "source": []
  }
 ],
 "metadata": {
  "kernelspec": {
   "display_name": "Python 3",
   "language": "python",
   "name": "python3"
  },
  "language_info": {
   "codemirror_mode": {
    "name": "ipython",
    "version": 3
   },
   "file_extension": ".py",
   "mimetype": "text/x-python",
   "name": "python",
   "nbconvert_exporter": "python",
   "pygments_lexer": "ipython3",
   "version": "3.11.5"
  }
 },
 "nbformat": 4,
 "nbformat_minor": 2
}
