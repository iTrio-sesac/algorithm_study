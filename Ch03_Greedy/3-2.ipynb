{
 "cells": [
  {
   "cell_type": "code",
   "execution_count": 1,
   "metadata": {},
   "outputs": [
    {
     "data": {
      "text/plain": [
       "(5, 8, 3)"
      ]
     },
     "execution_count": 1,
     "metadata": {},
     "output_type": "execute_result"
    }
   ],
   "source": [
    "# 입력 받은 수를 공백으로 구분한 후 정수형 변환하여 세 변수 n, m, k에 할당\n",
    "n, m, k = map(int, input().split())\n",
    "\n",
    "# 배열의 크기n, 숫자가 더해지는 횟수m, 하나의 숫자를 연속으로 더할 수 있는 횟수k\n",
    "n, m, k"
   ]
  },
  {
   "cell_type": "code",
   "execution_count": 2,
   "metadata": {},
   "outputs": [
    {
     "data": {
      "text/plain": [
       "[2, 4, 5, 4, 6]"
      ]
     },
     "execution_count": 2,
     "metadata": {},
     "output_type": "execute_result"
    }
   ],
   "source": [
    "# 입력받은 배열을 공백으로 구분한 후 정수형으로 변환하여 리스트로 만든다\n",
    "num_list = list(map(int, input().split()))\n",
    "num_list"
   ]
  },
  {
   "cell_type": "code",
   "execution_count": 3,
   "metadata": {},
   "outputs": [
    {
     "data": {
      "text/plain": [
       "46"
      ]
     },
     "execution_count": 3,
     "metadata": {},
     "output_type": "execute_result"
    }
   ],
   "source": [
    "# 리스트를 내림차순으로 정렬\n",
    "num_list.sort(reverse = True)\n",
    "\n",
    "# 결과값을 저장할 변수 설정\n",
    "result = 0\n",
    "\n",
    "# 인덱스 0이 가장 큰 수, 인덱스 1이 두 번째로 큰 수\n",
    "max_1 = num_list[0]\n",
    "max_2 = num_list[1]\n",
    "\n",
    "# 반복문\n",
    "while True: \n",
    "    # k번 반복 진행\n",
    "    for i in range(k):\n",
    "        # 만약 m이 0이면 if문 종료\n",
    "        if m == 0:\n",
    "            break\n",
    "        # 결과값에 가장 큰 수를 더하고 다시 결과값에 할당\n",
    "        result = result + max_1\n",
    "        # 숫자가 더해질 때마다 횟수가 하나씩 감소\n",
    "        m = m - 1\n",
    "    # 만약 mdl 0이면 if문 종료\n",
    "    if m == 0:\n",
    "        break\n",
    "    # 결과값에 두 번째로 큰 수 더하고 다시 결과값에 할당\n",
    "    result = result + max_2\n",
    "    # 숫자가 더해질 때마다 횟수가 하나씩 감소\n",
    "    m = m - 1\n",
    "\n",
    "result"
   ]
  }
 ],
 "metadata": {
  "kernelspec": {
   "display_name": "base",
   "language": "python",
   "name": "python3"
  },
  "language_info": {
   "codemirror_mode": {
    "name": "ipython",
    "version": 3
   },
   "file_extension": ".py",
   "mimetype": "text/x-python",
   "name": "python",
   "nbconvert_exporter": "python",
   "pygments_lexer": "ipython3",
   "version": "3.11.5"
  }
 },
 "nbformat": 4,
 "nbformat_minor": 2
}
