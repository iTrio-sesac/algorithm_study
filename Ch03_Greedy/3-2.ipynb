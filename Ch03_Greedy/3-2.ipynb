{
 "cells": [
  {
   "cell_type": "code",
   "execution_count": 1,
   "metadata": {},
   "outputs": [
    {
     "data": {
      "text/plain": [
       "(5, 8, 3)"
      ]
     },
     "execution_count": 1,
     "metadata": {},
     "output_type": "execute_result"
    }
   ],
   "source": [
    "n, m, k = map(int, input().split())  # 배열 크기n, 숫자가 더해지는 횟수m, k를 입력받는다.\n",
    "n, m, k"
   ]
  },
  {
   "cell_type": "code",
   "execution_count": 2,
   "metadata": {},
   "outputs": [
    {
     "data": {
      "text/plain": [
       "[3, 4, 5, 6, 5]"
      ]
     },
     "execution_count": 2,
     "metadata": {},
     "output_type": "execute_result"
    }
   ],
   "source": [
    "num_list = list(map(int, input().split())) # 배열 크기만큼 숫자를 입력받아 이를 리스트 형태로 만든다.\n",
    "num_list"
   ]
  },
  {
   "cell_type": "code",
   "execution_count": 3,
   "metadata": {},
   "outputs": [
    {
     "data": {
      "text/plain": [
       "[6, 5, 5, 4, 3]"
      ]
     },
     "execution_count": 3,
     "metadata": {},
     "output_type": "execute_result"
    }
   ],
   "source": [
    "result = 0 # 큰수의 법칙을 적용한 뒤 나오는 결과값을 저장할 변수 지정\n",
    "num_list.sort(reverse = True) # 리스트의 요소가 큰 순서대로 정렬\n",
    "num_list"
   ]
  },
  {
   "cell_type": "code",
   "execution_count": 4,
   "metadata": {},
   "outputs": [
    {
     "data": {
      "text/plain": [
       "46"
      ]
     },
     "execution_count": 4,
     "metadata": {},
     "output_type": "execute_result"
    }
   ],
   "source": [
    "max_1 = num_list[0] # 리스트에서 가장 큰 값\n",
    "max_2 = num_list[1] # 리스트에서 두번째로 큰 값\n",
    "\n",
    "if max_1 == max_2: # 만약 두 값이 같을 경우\n",
    "    result = max_1 * m # m번만큼 값을 더해서 결과값 나타냄.\n",
    "else: # 그렇지 않으면\n",
    "    while True:\n",
    "        for _ in range(0, k): # k번만큼 가장 큰 수 반복해서 더함.\n",
    "            if m == 0: # 반복문을 시작하기 전 더하는 횟수가 다하진 않았는지 체크\n",
    "                break  # 횟수가 다했다면 명령 중지\n",
    "            result += max_1  # 가장 큰 수를 k번만큼 더함\n",
    "            m -= 1 # k번만큼 횟수 감소\n",
    "        if m == 0: \n",
    "            break # 밑의 명령을 시작하기 전 횟수가 다했다면 중지\n",
    "        result += max_2 # 두번째 큰 숫자 한번 더함\n",
    "        m -= 1 # 횟수 1회 감소\n",
    "        \n",
    "result  # 결과값 출력"
   ]
  },
  {
   "cell_type": "code",
   "execution_count": null,
   "metadata": {},
   "outputs": [],
   "source": []
  }
 ],
 "metadata": {
  "kernelspec": {
   "display_name": "base",
   "language": "python",
   "name": "python3"
  },
  "language_info": {
   "codemirror_mode": {
    "name": "ipython",
    "version": 3
   },
   "file_extension": ".py",
   "mimetype": "text/x-python",
   "name": "python",
   "nbconvert_exporter": "python",
   "pygments_lexer": "ipython3",
   "version": "3.11.5"
  }
 },
 "nbformat": 4,
 "nbformat_minor": 2
}
