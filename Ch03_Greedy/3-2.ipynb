{
 "cells": [
  {
   "cell_type": "markdown",
   "metadata": {},
   "source": [
    "#### <예제 3-2. 큰 수의 법칙>\n",
    "\n",
    " 다양한 수로 이루어진 배열, 주어진 수를 M번 더하여 가장 큰 수 만들기.\n",
    " (단, 배열의 특정한 인덱스에 해당하는 수가 연속해서 K번을 초과하여 더해질 수 없음)\n",
    "\n",
    "입력 조건   \n",
    "* 첫째 줄에 N(2 <= N <= 1000), M(1 <= M <= 10000), K(1 <= K <= 10000)의 자연수가 주어지며, 각 자연수는 공백으로 구분한다.\n",
    "* 둘째 줄에 N개의 자연수가 주어진다. 각 자연수는 공백으로 구분한다. 단, 각각의 자연수는 1 이상 10000이하의 수로 주어진다\n",
    "* 입력으로 주어지는 K <= M\n",
    "\n",
    "출력 조건\n",
    "*  첫째 줄에 큰 수의 법칙에 따라 더해진 답 출력"
   ]
  },
  {
   "cell_type": "code",
   "execution_count": 1,
   "metadata": {},
   "outputs": [
    {
     "data": {
      "text/plain": [
       "(5, 8, 3)"
      ]
     },
     "execution_count": 1,
     "metadata": {},
     "output_type": "execute_result"
    }
   ],
   "source": [
    "# 입력 받은 수를 공백으로 구분한 후 정수형 변환하여 세 변수 n, m, k에 할당\n",
    "n, m, k = map(int, input().split())\n",
    "\n",
    "# 배열의 크기n, 숫자가 더해지는 횟수m, 하나의 숫자를 연속으로 더할 수 있는 횟수k\n",
    "n, m, k"
   ]
  },
  {
   "cell_type": "code",
   "execution_count": 2,
   "metadata": {},
   "outputs": [
    {
     "data": {
      "text/plain": [
       "[2, 4, 5, 4, 6]"
      ]
     },
     "execution_count": 2,
     "metadata": {},
     "output_type": "execute_result"
    }
   ],
   "source": [
    "# 입력받은 배열을 공백으로 구분한 후 정수형으로 변환하여 리스트로 만든다\n",
    "num_list = list(map(int, input().split()))\n",
    "num_list"
   ]
  },
  {
   "cell_type": "code",
   "execution_count": 3,
   "metadata": {},
   "outputs": [
    {
     "data": {
      "text/plain": [
       "46"
      ]
     },
     "execution_count": 3,
     "metadata": {},
     "output_type": "execute_result"
    }
   ],
   "source": [
    "# 리스트를 내림차순으로 정렬\n",
    "num_list.sort(reverse = True)\n",
    "\n",
    "# 결과값을 저장할 변수 설정\n",
    "result = 0\n",
    "\n",
    "# 인덱스 0이 가장 큰 수, 인덱스 1이 두 번째로 큰 수\n",
    "max_1 = num_list[0]\n",
    "max_2 = num_list[1]\n",
    "\n",
    "# 반복문\n",
    "while True: \n",
    "    # k번 반복 진행\n",
    "    for i in range(k):\n",
    "        # 만약 m이 0이면 if문 종료\n",
    "        if m == 0:\n",
    "            break\n",
    "        # 결과값에 가장 큰 수를 더하고 다시 결과값에 할당\n",
    "        result = result + max_1\n",
    "        # 숫자가 더해질 때마다 횟수가 하나씩 감소\n",
    "        m = m - 1\n",
    "    # 만약 mdl 0이면 if문 종료\n",
    "    if m == 0:\n",
    "        break\n",
    "    # 결과값에 두 번째로 큰 수 더하고 다시 결과값에 할당\n",
    "    result = result + max_2\n",
    "    # 숫자가 더해질 때마다 횟수가 하나씩 감소\n",
    "    m = m - 1\n",
    "\n",
    "result"
   ]
  },
  {
   "cell_type": "markdown",
   "metadata": {},
   "source": [
    "책 풀이"
   ]
  },
  {
   "cell_type": "code",
   "execution_count": null,
   "metadata": {},
   "outputs": [],
   "source": [
    "n, m, k = map(int, input().split())\n",
    "data = list(map(int, input().split()))\n",
    "\n",
    "data.sort()\n",
    "first = data[n-1]\n",
    "second = data[n-2]\n",
    "\n",
    "count = int(m/(k+1)) * k\n",
    "count += m % (k+1)\n",
    "\n",
    "result = 0 \n",
    "result += (count) * first\n",
    "result += (m-count) * second\n",
    "\n",
    "print(result)"
   ]
  }
 ],
 "metadata": {
  "kernelspec": {
   "display_name": "base",
   "language": "python",
   "name": "python3"
  },
  "language_info": {
   "codemirror_mode": {
    "name": "ipython",
    "version": 3
   },
   "file_extension": ".py",
   "mimetype": "text/x-python",
   "name": "python",
   "nbconvert_exporter": "python",
   "pygments_lexer": "ipython3",
   "version": "3.11.5"
  }
 },
 "nbformat": 4,
 "nbformat_minor": 2
}
