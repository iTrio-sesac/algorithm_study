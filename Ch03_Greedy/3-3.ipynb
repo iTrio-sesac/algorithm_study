{
 "cells": [
  {
   "cell_type": "code",
   "execution_count": 2,
   "metadata": {},
   "outputs": [
    {
     "data": {
      "text/plain": [
       "2"
      ]
     },
     "execution_count": 2,
     "metadata": {},
     "output_type": "execute_result"
    }
   ],
   "source": [
    "# 입력 받은 수를 공백으로 구분 후 정수형 변환하여 변수에 할당. 행의 수n, 열의 수m\n",
    "n, m = map(int, input().split())\n",
    "\n",
    "# 최소값을 저장할 리스트 생성\n",
    "result = []\n",
    "\n",
    "# 행의 수 만큼 반복 \n",
    "for i in range(n):\n",
    "    # 입력 받은 수를 공백으로 구분 후 정수형 변환하여 리스트에 저장\n",
    "    card_row = list(map(int, input().split()))\n",
    "    # 최소값을 리스트에 추가\n",
    "    result.append(min(card_row))\n",
    "\n",
    "# 리스트에서 최대값 출력\n",
    "max(result)"
   ]
  }
 ],
 "metadata": {
  "kernelspec": {
   "display_name": "base",
   "language": "python",
   "name": "python3"
  },
  "language_info": {
   "codemirror_mode": {
    "name": "ipython",
    "version": 3
   },
   "file_extension": ".py",
   "mimetype": "text/x-python",
   "name": "python",
   "nbconvert_exporter": "python",
   "pygments_lexer": "ipython3",
   "version": "3.11.5"
  }
 },
 "nbformat": 4,
 "nbformat_minor": 2
}
