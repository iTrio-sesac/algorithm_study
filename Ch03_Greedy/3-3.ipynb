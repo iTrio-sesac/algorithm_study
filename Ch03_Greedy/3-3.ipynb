{
 "cells": [
  {
   "cell_type": "markdown",
   "metadata": {},
   "source": [
    "#### <예제 3-3. 숫자 카드 게임>\n",
    "\n",
    "여러개의 숫자 카드 중에서 가장 높은 숫자가 쓰인 카드 한 장 뽑기. 게임 룰은 다음과 같다.\n",
    " \n",
    " 1) 숫자가 쓰인 카드들이 N*M형태로 놓여 있으며 N은 행, M은 열\n",
    " 2) 먼저 뽑고자 하는 카드가 포함되어 있는 행을 선택\n",
    " 3) 그다음 선택된 행에 포함된 카드들 중 가장 숫자가 낮은 카드 뽑기\n",
    " 4) 처음에 카드를 골라낼 행을 선택할 때, 이후에 해당 행에서 가장 숫자가 낮은 카드를 뽑을 것을 고려하여 최종적으로 가장 높은 숫자의 카드를 뽑을 수 있도록 전략 세움\n",
    "\n",
    "\n",
    "입력조건\n",
    "* 첫째 줄에 숫자 카드들이 놓인 행의 개수 N과 열의 개수 M이 공백을 기준으로 하여 각각 자연수로 주어진다(1 <= N,M <= 100)\n",
    "* 둘째 줄부터 N개의 줄에 걸쳐 각 카드에 적힌 숫자가 주어진다. 각 숫자는 1 이상 10000이하의 자연수이다.\n",
    " \n",
    "출력조건\n",
    " * 첫째 줄에 게임의 룰에 맞게 선택한 카드에 적힌 숫자를 출력한다."
   ]
  },
  {
   "cell_type": "code",
   "execution_count": 2,
   "metadata": {},
   "outputs": [
    {
     "data": {
      "text/plain": [
       "2"
      ]
     },
     "execution_count": 2,
     "metadata": {},
     "output_type": "execute_result"
    }
   ],
   "source": [
    "# 입력 받은 수를 공백으로 구분 후 정수형 변환하여 변수에 할당. 행의 수n, 열의 수m\n",
    "n, m = map(int, input().split())\n",
    "\n",
    "# 최소값을 저장할 리스트 생성\n",
    "result = []\n",
    "\n",
    "# 행의 수 만큼 반복 \n",
    "for i in range(n):\n",
    "    # 입력 받은 수를 공백으로 구분 후 정수형 변환하여 리스트에 저장\n",
    "    card_row = list(map(int, input().split()))\n",
    "    # 최소값을 리스트에 추가\n",
    "    result.append(min(card_row))\n",
    "\n",
    "# 리스트에서 최대값 출력\n",
    "max(result)"
   ]
  },
  {
   "cell_type": "markdown",
   "metadata": {},
   "source": [
    "책 풀이"
   ]
  },
  {
   "cell_type": "code",
   "execution_count": null,
   "metadata": {},
   "outputs": [],
   "source": [
    "# min()함수 이용한 답안 예시\n",
    "n,m = map(int,input().split())\n",
    "result = 0\n",
    "\n",
    "# 1차원 리스트 받아서 각 줄에서 최소값 비교 후 그 중 가장 큰 값 출력\n",
    "for i in range(n):\n",
    "  data = list(map(int, input().split()))\n",
    "  # 현재 줄에서 가장 작은 수 찾기\n",
    "  min_value = min(data)\n",
    "  # '가장 작은 수'들 중에서 가장 큰 수 찾기\n",
    "  result = max(result, min_value)\n",
    "\n",
    "print(result)"
   ]
  },
  {
   "cell_type": "code",
   "execution_count": null,
   "metadata": {},
   "outputs": [],
   "source": [
    "# 2중 반복문 구조를 이용한 답안 예시\n",
    "n,m = map(int,input().split())\n",
    "result = 0\n",
    "\n",
    "for i in range(n):\n",
    "  data = list(map(int, input().split()))\n",
    "  # 현재 줄에서 가장 작은 수 찾기\n",
    "  min_value = 10001\n",
    "  for a in data:\n",
    "    min_value = min(min_value, a)\n",
    "  result = max(result, min_value)\n",
    "print(result)"
   ]
  }
 ],
 "metadata": {
  "kernelspec": {
   "display_name": "base",
   "language": "python",
   "name": "python3"
  },
  "language_info": {
   "codemirror_mode": {
    "name": "ipython",
    "version": 3
   },
   "file_extension": ".py",
   "mimetype": "text/x-python",
   "name": "python",
   "nbconvert_exporter": "python",
   "pygments_lexer": "ipython3",
   "version": "3.11.5"
  }
 },
 "nbformat": 4,
 "nbformat_minor": 2
}
