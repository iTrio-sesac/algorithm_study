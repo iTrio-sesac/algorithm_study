{
 "cells": [
  {
   "cell_type": "code",
   "execution_count": 3,
   "metadata": {},
   "outputs": [
    {
     "data": {
      "text/plain": [
       "2"
      ]
     },
     "execution_count": 3,
     "metadata": {},
     "output_type": "execute_result"
    }
   ],
   "source": [
    "# 입력 받은 수를 공백으로 구분 후 정수형 변환하여 변수에 할당\n",
    "n, k = map(int, input().split())\n",
    "\n",
    "# 계산 횟수 초기값 설정 \n",
    "count = 0\n",
    "\n",
    "# n이 1이 될 때까지 반복\n",
    "while n > 1:\n",
    "    # n이 k로 나누어 떨어지면 \n",
    "    if n % k == 0:\n",
    "        # n을 k로 나눈 후 다시 n으로 할당\n",
    "        n = n / k \n",
    "        count = count + 1\n",
    "    else:\n",
    "        n = n - 1 \n",
    "        count = count + 1\n",
    "\n",
    "# 다시 n이 k로 나누어지면 1일 될 때 반복 진행\n",
    "\n",
    "count\n",
    "\n"
   ]
  }
 ],
 "metadata": {
  "kernelspec": {
   "display_name": "base",
   "language": "python",
   "name": "python3"
  },
  "language_info": {
   "codemirror_mode": {
    "name": "ipython",
    "version": 3
   },
   "file_extension": ".py",
   "mimetype": "text/x-python",
   "name": "python",
   "nbconvert_exporter": "python",
   "pygments_lexer": "ipython3",
   "version": "3.11.5"
  }
 },
 "nbformat": 4,
 "nbformat_minor": 2
}
