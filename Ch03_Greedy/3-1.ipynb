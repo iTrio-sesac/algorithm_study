{
 "cells": [
  {
   "cell_type": "code",
   "execution_count": 2,
   "metadata": {},
   "outputs": [],
   "source": [
    "# 거슬러줄 돈의 액수를 입력받고 정수형으로 변환 후 변수에 할당\n",
    "n = int(input(\"거슬러 줘야 할 돈을 입력하시오 : \")) "
   ]
  },
  {
   "cell_type": "code",
   "execution_count": 3,
   "metadata": {},
   "outputs": [
    {
     "data": {
      "text/plain": [
       "1260"
      ]
     },
     "execution_count": 3,
     "metadata": {},
     "output_type": "execute_result"
    }
   ],
   "source": [
    "n"
   ]
  },
  {
   "cell_type": "code",
   "execution_count": 4,
   "metadata": {},
   "outputs": [
    {
     "name": "stdout",
     "output_type": "stream",
     "text": [
      "6\n"
     ]
    }
   ],
   "source": [
    "# 초기 거스름돈 동전 개수 설정\n",
    "coin_num = 0  \n",
    "\n",
    "# 거스름돈으로 줄 수 있는 동전의 종류\n",
    "coin_type = [500,100,50,10] \n",
    "\n",
    "# 동전의 종류만큼 for문 진행\n",
    "for i in coin_type:\n",
    "    # 거스름돈을 동전으로 나눈 몫을 coin_num에 추가\n",
    "    coin_num = coin_num + (n // i)\n",
    "    # 거스름돈을 동전으로 나눈 나머지를 다시 거스름돈에 할당\n",
    "    n = n % i \n",
    "print(coin_num)"
   ]
  },
  {
   "cell_type": "code",
   "execution_count": null,
   "metadata": {},
   "outputs": [],
   "source": [
    "d"
   ]
  }
 ],
 "metadata": {
  "kernelspec": {
   "display_name": "base",
   "language": "python",
   "name": "python3"
  },
  "language_info": {
   "codemirror_mode": {
    "name": "ipython",
    "version": 3
   },
   "file_extension": ".py",
   "mimetype": "text/x-python",
   "name": "python",
   "nbconvert_exporter": "python",
   "pygments_lexer": "ipython3",
   "version": "3.11.5"
  }
 },
 "nbformat": 4,
 "nbformat_minor": 2
}
