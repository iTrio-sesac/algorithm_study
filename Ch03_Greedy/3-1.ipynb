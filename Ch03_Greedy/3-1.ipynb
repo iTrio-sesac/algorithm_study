{
 "cells": [
  {
   "cell_type": "markdown",
   "metadata": {},
   "source": [
    "\n",
    "## 그리디 알고리즘(탐욕법, Greedy Algorithm)\n",
    "\n",
    "최적화 문제를 해결하는 알고릴즘 중 하나로, \"매 순간, 최적이라 생각되는 해답을 찾으며, 이를 토대로 최종 문제의 해답에 도달\"하는 문제 해결 방식이다.\n",
    "\n",
    "특징:\n",
    "* 단순하고 직관적이며, 구현하기가 비교적 간단하다.\n",
    "* 빠르게 최적해를 도출할 수 있다.  \n",
    "* 그 순간에 대해 지역적으로는 최적이지만, 그 선택들을 계속 수집하여 최종적(전역적)인 해답을 만들었다고 해서, 그것이 최적이라는 보장은 없다."
   ]
  },
  {
   "cell_type": "markdown",
   "metadata": {},
   "source": []
  },
  {
   "cell_type": "markdown",
   "metadata": {},
   "source": [
    "#### <예제 3-1. 거스름돈>\n",
    "\n",
    " 손님에게 거슬러 줘야할 돈이 N원 일때, 거슬러줘야 할 동전의 최소 개수를 구하여라.   \n",
    "(거스름돈으로 사용할 500원, 100원, 50원, 10원짜리의 동전이 무한히 존재한다고 가정)"
   ]
  },
  {
   "cell_type": "code",
   "execution_count": 2,
   "metadata": {},
   "outputs": [
    {
     "data": {
      "text/plain": [
       "1260"
      ]
     },
     "execution_count": 2,
     "metadata": {},
     "output_type": "execute_result"
    }
   ],
   "source": [
    "# 거슬러줄 돈의 액수를 입력받고 정수형으로 변환 후 변수에 할당\n",
    "n = int(input(\"거슬러 줘야 할 돈을 입력하시오 : \")) \n",
    "\n",
    "n"
   ]
  },
  {
   "cell_type": "code",
   "execution_count": 3,
   "metadata": {},
   "outputs": [
    {
     "name": "stdout",
     "output_type": "stream",
     "text": [
      "6\n"
     ]
    }
   ],
   "source": [
    "# 초기 거스름돈 동전 개수 설정\n",
    "coin_num = 0  \n",
    "\n",
    "# 거스름돈으로 줄 수 있는 동전의 종류\n",
    "coin_type = [500,100,50,10] \n",
    "\n",
    "# 동전의 종류만큼 for문 진행\n",
    "for i in coin_type:\n",
    "    # 거스름돈을 동전으로 나눈 몫을 coin_num에 추가\n",
    "    coin_num = coin_num + (n // i)\n",
    "    # 거스름돈을 동전으로 나눈 나머지를 다시 거스름돈에 할당\n",
    "    n = n % i \n",
    "print(coin_num)"
   ]
  },
  {
   "cell_type": "markdown",
   "metadata": {},
   "source": [
    "책 풀이"
   ]
  },
  {
   "cell_type": "code",
   "execution_count": null,
   "metadata": {},
   "outputs": [],
   "source": [
    "# 거스름돈이 1260원일때 동전의 최소 개수\n",
    "n = 1260\n",
    "count = 0\n",
    "\n",
    "coin_types = [500,100,50,10]\n",
    "\n",
    "for coin in coin_types:\n",
    "\tcount += n // coin\n",
    "\tn %= coin\n",
    "\n",
    "print(count)"
   ]
  }
 ],
 "metadata": {
  "kernelspec": {
   "display_name": "base",
   "language": "python",
   "name": "python3"
  },
  "language_info": {
   "codemirror_mode": {
    "name": "ipython",
    "version": 3
   },
   "file_extension": ".py",
   "mimetype": "text/x-python",
   "name": "python",
   "nbconvert_exporter": "python",
   "pygments_lexer": "ipython3",
   "version": "3.11.5"
  }
 },
 "nbformat": 4,
 "nbformat_minor": 2
}
