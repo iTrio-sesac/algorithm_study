{
 "cells": [
  {
   "cell_type": "code",
   "execution_count": 2,
   "metadata": {},
   "outputs": [],
   "source": [
    "n = int(input(\"거슬러 줘야 할 돈을 입력하시오 : \"))  # input함수를 이용해 거슬러줄 돈의 액수를 입력받고 int형으로 변환"
   ]
  },
  {
   "cell_type": "code",
   "execution_count": 3,
   "metadata": {},
   "outputs": [
    {
     "data": {
      "text/plain": [
       "1260"
      ]
     },
     "execution_count": 3,
     "metadata": {},
     "output_type": "execute_result"
    }
   ],
   "source": [
    "n"
   ]
  },
  {
   "cell_type": "code",
   "execution_count": 4,
   "metadata": {},
   "outputs": [
    {
     "name": "stdout",
     "output_type": "stream",
     "text": [
      "6\n"
     ]
    }
   ],
   "source": [
    "coin_num = 0  # 초기 거스름돈 동전 개수 = 0\n",
    "coin = [500,100,50,10] # 거스름돈으로 줄 수 있는 동전의 종류\n",
    "for i in coin: # 동전의 종류만큼 반복해서\n",
    "    coin_num += n // i  # 거스름돈을 동전으로 나눈 몫을 coin_num에 추가하고\n",
    "    n = n % i  # 위에서 계산한 금액만큼 거스름돈에서 제외하여 다시 입력\n",
    "print(coin_num)"
   ]
  },
  {
   "cell_type": "code",
   "execution_count": null,
   "metadata": {},
   "outputs": [],
   "source": []
  }
 ],
 "metadata": {
  "kernelspec": {
   "display_name": "base",
   "language": "python",
   "name": "python3"
  },
  "language_info": {
   "codemirror_mode": {
    "name": "ipython",
    "version": 3
   },
   "file_extension": ".py",
   "mimetype": "text/x-python",
   "name": "python",
   "nbconvert_exporter": "python",
   "pygments_lexer": "ipython3",
   "version": "3.11.5"
  }
 },
 "nbformat": 4,
 "nbformat_minor": 2
}
