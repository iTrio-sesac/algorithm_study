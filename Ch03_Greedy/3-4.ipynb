{
 "cells": [
  {
   "cell_type": "markdown",
   "metadata": {},
   "source": [
    "#### <예제 3-4. 1일 될 때까지>\n",
    "\n",
    "어떠한 수 N이 1이 될 때까지 다음의 두 과정 중 하나를 반복적으로 선택하여 수행하려고 한다. 단, 두 번째 연산은 N이 K로 나누어떨어질 때만 선택할 수 있다.\n",
    " \n",
    " 1) N에서 1을 뺀다.\n",
    " 2) N을 K로 나눈다.\n",
    " \n",
    "N과 K가 주어질 때 N이 1이 될 때까지 1번 혹은 2번의 과정을 수행해야 하는 최소 횟수를 구하는 프로그램을 작성하시오.\n",
    " \n",
    "입력 조건\n",
    "* 첫째 줄에 N(2<= N <= 100000)과 K(2 <= K <= 100000)가 공백으로 구분되며 각각 자연수로 주어진다. 이때 입력으로 주어지는 N은 항상 K보다 크거나 같다.\n",
    " \n",
    "출력 조건\n",
    "* 첫째 줄에 N이 1이 될 때까지 1번 혹은 2번의 과정을 수행해야 하는 횟수의 최솟값을 출력한다."
   ]
  },
  {
   "cell_type": "code",
   "execution_count": 3,
   "metadata": {},
   "outputs": [
    {
     "data": {
      "text/plain": [
       "2"
      ]
     },
     "execution_count": 3,
     "metadata": {},
     "output_type": "execute_result"
    }
   ],
   "source": [
    "# 입력 받은 수를 공백으로 구분 후 정수형 변환하여 변수에 할당\n",
    "n, k = map(int, input().split())\n",
    "\n",
    "# 계산 횟수 초기값 설정 \n",
    "count = 0\n",
    "\n",
    "# n이 1이 될 때까지 반복\n",
    "while n > 1:\n",
    "    # n이 k로 나누어 떨어지면 \n",
    "    if n % k == 0:\n",
    "        # n을 k로 나눈 후 다시 n으로 할당\n",
    "        n = n / k \n",
    "        count = count + 1\n",
    "    else:\n",
    "        n = n - 1 \n",
    "        count = count + 1\n",
    "\n",
    "# 다시 n이 k로 나누어지면 1일 될 때 반복 진행\n",
    "\n",
    "count\n",
    "\n"
   ]
  },
  {
   "cell_type": "markdown",
   "metadata": {},
   "source": [
    "책 풀이"
   ]
  },
  {
   "cell_type": "code",
   "execution_count": null,
   "metadata": {},
   "outputs": [],
   "source": [
    "# 단순하게 푸는 답안 예시_1\n",
    "n,k = map(int, input().split())\n",
    "result = 0\n",
    "\n",
    "# N이 K 이상이라면 K로 계속 나누기\n",
    "while n >= k:\n",
    "  # N이 K로 나누어 떨어지지 않는다면 N에서 1씩 빼기\n",
    "  while n % k != 0:\n",
    "    n -= 1\n",
    "    result += 1\n",
    "  # K로 나누기\n",
    "  n //= k\n",
    "  result += 1\n",
    "\n",
    "# 마지막으로 남은 수에 대하여 1씩 빼기\n",
    "while n > 1:\n",
    "  n -= 1\n",
    "  result += 1\n",
    "\n",
    "print(result)"
   ]
  }
 ],
 "metadata": {
  "kernelspec": {
   "display_name": "base",
   "language": "python",
   "name": "python3"
  },
  "language_info": {
   "codemirror_mode": {
    "name": "ipython",
    "version": 3
   },
   "file_extension": ".py",
   "mimetype": "text/x-python",
   "name": "python",
   "nbconvert_exporter": "python",
   "pygments_lexer": "ipython3",
   "version": "3.11.5"
  }
 },
 "nbformat": 4,
 "nbformat_minor": 2
}
