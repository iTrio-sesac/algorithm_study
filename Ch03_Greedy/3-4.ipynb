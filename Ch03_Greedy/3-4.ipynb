{
 "cells": [
  {
   "cell_type": "code",
   "execution_count": 1,
   "metadata": {},
   "outputs": [],
   "source": [
    "n, k = map(int, input().split()) # n과 k를 입력받는다."
   ]
  },
  {
   "cell_type": "code",
   "execution_count": 2,
   "metadata": {},
   "outputs": [
    {
     "data": {
      "text/plain": [
       "3"
      ]
     },
     "execution_count": 2,
     "metadata": {},
     "output_type": "execute_result"
    }
   ],
   "source": [
    "cnt = 0 # n을 1로 만드는 최소 횟수를 세기 위한 변수 선언\n",
    "\n",
    "while n > 1: # n이 1이 될때까지 반복\n",
    "    if n % k == 0: # 만약 n이 k로 나누어 떨어진다면\n",
    "        n = n / k # n을 k로 나누고\n",
    "        cnt += 1 # 횟수 1회 추가\n",
    "    else: # 만약 그게 아니라면\n",
    "        n -= 1 # n에서 1을 뺀다\n",
    "        cnt += 1 # 횟수 1회 추가\n",
    "\n",
    "cnt # 총 횟수 출력"
   ]
  },
  {
   "cell_type": "code",
   "execution_count": null,
   "metadata": {},
   "outputs": [],
   "source": []
  }
 ],
 "metadata": {
  "kernelspec": {
   "display_name": "base",
   "language": "python",
   "name": "python3"
  },
  "language_info": {
   "codemirror_mode": {
    "name": "ipython",
    "version": 3
   },
   "file_extension": ".py",
   "mimetype": "text/x-python",
   "name": "python",
   "nbconvert_exporter": "python",
   "pygments_lexer": "ipython3",
   "version": "3.11.5"
  }
 },
 "nbformat": 4,
 "nbformat_minor": 2
}
