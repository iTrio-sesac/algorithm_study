{
 "cells": [
  {
   "cell_type": "code",
   "execution_count": 9,
   "metadata": {},
   "outputs": [
    {
     "name": "stdout",
     "output_type": "stream",
     "text": [
      "2 4\n"
     ]
    }
   ],
   "source": [
    "import heapq\n",
    "INF = int(1e9)\n",
    "\n",
    "n,m,c = map(int, input().split())\n",
    "\n",
    "# 각 도시에 연결되어 있는 통로에 대한 정보를 담는 리스트를 만들기\n",
    "graph = [[] for i in range(n+1)]\n",
    "\n",
    "# 최단 거리 테이블을 모두 무한으로 초기화\n",
    "distance = [INF] * (n+1)\n",
    "\n",
    "# 모든 통로 정보를 입력받기\n",
    "for _ in range(m):\n",
    "    x,y,z = map(int, input().split())\n",
    "    # 도시 x에서 도시 y로 가는 시간이 z라는 의미\n",
    "    graph[x].append((y,z))\n",
    "\n",
    "def dijkstra(start):\n",
    "    q = []\n",
    "    # 시작 도시로 가기 위한 최단 경로는 0으로 설정하여, 큐에 삽입\n",
    "    heapq.heappush(q, (0, start))\n",
    "    distance[start] = 0\n",
    "    while q:  # 큐가 비어있지 않다면\n",
    "        # 가장 최단 거리가 짧은 도시에 대한 정보 꺼내기\n",
    "        dist, now = heapq.heappop(q)\n",
    "\n",
    "        # 현재 도시가 이미 처리된 적이 있는 도시라면 무시\n",
    "        if distance[now] < dist:\n",
    "            continue\n",
    "        # 현재 도시와 연결된 다른 인접한 도시들을 확인\n",
    "        for i in graph[now]:\n",
    "            cost = dist + i[1]\n",
    "            # 현재 도시를 거쳐서, 다른 도시로 이동하는 거리가 더 짧은 경우\n",
    "            if cost < distance[i[0]]:\n",
    "                distance[i[0]] = cost\n",
    "                heapq.heappush(q, (cost, i[0]))\n",
    "\n",
    "# 다익스트라 알고리즘 수행\n",
    "dijkstra(c)\n",
    "\n",
    "cnt = -1\n",
    "time = 0\n",
    "\n",
    "for d in distance:\n",
    "    if d != INF:\n",
    "        cnt += 1\n",
    "        time = max(d, time)\n",
    "\n",
    "print(cnt, time)\n"
   ]
  },
  {
   "cell_type": "code",
   "execution_count": null,
   "metadata": {},
   "outputs": [],
   "source": []
  }
 ],
 "metadata": {
  "kernelspec": {
   "display_name": "yoonkt",
   "language": "python",
   "name": "python3"
  },
  "language_info": {
   "codemirror_mode": {
    "name": "ipython",
    "version": 3
   },
   "file_extension": ".py",
   "mimetype": "text/x-python",
   "name": "python",
   "nbconvert_exporter": "python",
   "pygments_lexer": "ipython3",
   "version": "3.9.7"
  }
 },
 "nbformat": 4,
 "nbformat_minor": 2
}
