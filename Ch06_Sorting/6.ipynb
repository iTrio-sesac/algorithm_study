{
 "cells": [
  {
   "cell_type": "markdown",
   "metadata": {},
   "source": [
    "### 정렬(Sorting)이란? \n",
    "데이터를 특정한 기준에 따라 순서대로 나열하는 것\n",
    "<br>\n",
    "\n",
    "정렬 종류:\n",
    "1. **선택 정렬 Selection Sort** \n",
    "    - 처리되지 않은 데이터 중에서 가장 작은 데이터를 선택해 맨 앞에 있는 데이터와 바꾸는 것을 반복\n",
    "    - 시간 복잡도 : O(N^2)\n",
    "2. **삽입 정렬 Insertion Sort** \n",
    "    - 처리되지 않은 데이터를 하나씩 골라 적절한 위치에 삽입\n",
    "    - 시간 복잡도 : O(N^2). 데이터가 거의 정렬되어 있는 상태라면 최선의 경우 O(N)의 시간 복잡도를 가진다. \n",
    "3. **퀵 정렬** \n",
    "    - (표준 정렬) 기준 데이터(pivot)를 설정하고 그 기준보다 큰 데이터와 작은 데이터의 위치를 바꾸는 방법\n",
    "    - 재귀 함수로 작성했을 때 구현이 매우 간결해진다. \n",
    "    - 시간 복잡도 : O(NlogN). 최악의 경우 O(N^2)의 시간 복잡도를 가진다. \n",
    "4. **계수 정렬 Count Sort** \n",
    "    - 각 데이터가 몇 번씩 등장 했는지를 세는 방식. 데이터의 크기 범위가 제한되어 정수 형태로 표현할 수 있을 때 사용 가능한 정렬 알고리즘\n",
    "    - 시간 복잡도 : 데이터 중 최댓값의 크기를 K라고 할 때, O(N + K)\n",
    "5. **파이썬 정렬 라이브러리**\n",
    "    - sorted()\n",
    "        - (퀵 정렬과 동작 방식이 비슷한) 병합 벙렬을 기반으로 만들어진다.\n",
    "        - 병합 정렬 : 퀵 정렬보다 느리지만, 최악의 경우 시간 복잡도 O(NlonN) 보장\n",
    "    - sort()\n",
    "        - 리스트 내장함수\n",
    "        - 별도의 정렬된 리스트 반환하지 않고 내부 원소가 바로 정렬된다.\n",
    "    - 시간 복잡도 : O(NlogN)"
   ]
  },
  {
   "cell_type": "code",
   "execution_count": 2,
   "metadata": {},
   "outputs": [
    {
     "name": "stdout",
     "output_type": "stream",
     "text": [
      "[0, 1, 2, 3, 4, 5, 6, 7, 8, 9]\n"
     ]
    }
   ],
   "source": [
    "# 선택 정렬\n",
    "array = [7, 5, 9, 0, 3, 1, 6, 2, 4, 8]\n",
    "\n",
    "for i in range(len(array)):\n",
    "    # 가장 작은 원소의 인덱스\n",
    "    min_index = i\n",
    "    for j in range(i +1, len(array)):\n",
    "        if array[min_index] > array[j]:\n",
    "            min_index = j\n",
    "    # 스와프        \n",
    "    array[i], array[min_index] = array[min_index], array[i]\n",
    "\n",
    "print(array)"
   ]
  },
  {
   "cell_type": "code",
   "execution_count": 3,
   "metadata": {},
   "outputs": [
    {
     "name": "stdout",
     "output_type": "stream",
     "text": [
      "[0, 1, 2, 3, 4, 5, 6, 7, 8, 9]\n"
     ]
    }
   ],
   "source": [
    "# 삽입 정렬\n",
    "array = [7, 5, 9, 0, 3, 1, 6, 2, 4, 8]\n",
    "\n",
    "for i in range(1, len(array)):\n",
    "    # 인덱스 i부처 1까지 1씩 감소하며 반복\n",
    "    for j in range(i, 0, -1):\n",
    "        # 한 칸씩 왼쪽으로 이동\n",
    "        if array[j] < array[j -1]:\n",
    "            array[j], array[j -1] = array[j -1], array[j]\n",
    "        # 자기보다 작은 데이터를 만나면 그 위치에서 멈춤\n",
    "        else:\n",
    "            break\n",
    "\n",
    "print(array)"
   ]
  },
  {
   "cell_type": "code",
   "execution_count": 4,
   "metadata": {},
   "outputs": [
    {
     "name": "stdout",
     "output_type": "stream",
     "text": [
      "[0, 1, 2, 3, 4, 5, 6, 7, 8, 9]\n"
     ]
    }
   ],
   "source": [
    "# 퀵 정렬\n",
    "array = [5, 7, 9, 0, 3, 1, 6, 2 ,4, 8]\n",
    "\n",
    "def quick_sort(array, start, end):\n",
    "    # 원소가 1개인 경우 종료\n",
    "    if start >= end:\n",
    "        return\n",
    "    # 피벗은 첫 번째 원소\n",
    "    pivot = start\n",
    "    left = start +1\n",
    "    right = end\n",
    "    while left <= right:\n",
    "        # 피벗보다 큰 데이터를 찾을 때까지 반복\n",
    "        while left <= end and array[left] <= array[pivot]:\n",
    "            left += 1\n",
    "        # 피벗보다 작은 데이터를 찾을 때까지 반복\n",
    "        while right > start and array[right] >= array[pivot]:\n",
    "            right -= 1\n",
    "        # 엇갈렸다면 작은 데이터와 피벗을 교체\n",
    "        if left > right:\n",
    "            array[right], array[pivot] = array[pivot], array[right]\n",
    "        # 엇갈리지 않았다면 작은 데이터와 큰 데이터를 교체\n",
    "        else:\n",
    "            array[left], array[right] = array[right], array[left]\n",
    "    \n",
    "    # 분할 이후 왼쪽 부분과 오른쪽 부분에서 각각 정렬 수행\n",
    "    quick_sort(array, start, right -1)\n",
    "    quick_sort(array, right +1, end)\n",
    "\n",
    "quick_sort(array, 0, len(array) -1)\n",
    "print(array)"
   ]
  },
  {
   "cell_type": "code",
   "execution_count": 33,
   "metadata": {},
   "outputs": [
    {
     "name": "stdout",
     "output_type": "stream",
     "text": [
      "[0, 1, 2, 3, 4, 5, 6, 7, 8, 9]\n"
     ]
    }
   ],
   "source": [
    "# 파이썬의 장점을 살린 퀵 정렬 \n",
    "array = [5, 7, 9, 0, 3, 1, 6, 2 ,4, 8]\n",
    "\n",
    "def quick_sort(array):\n",
    "    if len(array) <= 1:\n",
    "        return array\n",
    "    \n",
    "    pivot = array[0]\n",
    "    tail = array[1:]\n",
    "\n",
    "    left_side = [x for x in tail if x <= pivot]\n",
    "    right_side = [x for x in tail if x > pivot]\n",
    "\n",
    "    return quick_sort(left_side) + [pivot] + quick_sort(right_side)\n",
    "\n",
    "print(quick_sort(array)) "
   ]
  },
  {
   "cell_type": "code",
   "execution_count": 26,
   "metadata": {},
   "outputs": [
    {
     "name": "stdout",
     "output_type": "stream",
     "text": [
      "0 0 1 1 2 2 3 4 5 5 6 7 8 9 9 "
     ]
    }
   ],
   "source": [
    "# 계수 정렬 \n",
    "\n",
    "# 모든 원소의 값이 0보다 크거나 같다고 가정\n",
    "array = [7, 5, 9, 0, 3, 1, 6, 2, 9, 1, 4, 8, 0, 5, 2]\n",
    "\n",
    "# 모든 범위를 포함하는 리스트 선언(모든 값은 0으로 초기화)\n",
    "count = [0] * (max(array) + 1)\n",
    "\n",
    "for i in range(len(array)):\n",
    "    # 각 데이터에 해당하는 인덱스의 값 증가\n",
    "    count[array[i]] += 1\n",
    "\n",
    "# 리스트에 기록된 정렬 정보 확인\n",
    "for i in range(len(count)):\n",
    "    for j in range(count[i]):\n",
    "        # 띄어쓰기를 구분으로 등장한 횟수만큼 인덱스 출력\n",
    "        print(i, end=' ')"
   ]
  },
  {
   "cell_type": "code",
   "execution_count": 37,
   "metadata": {},
   "outputs": [
    {
     "name": "stdout",
     "output_type": "stream",
     "text": [
      "[0, 1, 2, 3, 4, 5, 6, 7, 8, 9]\n"
     ]
    }
   ],
   "source": [
    "# 파이썬 정렬 라이브러리 sorted 예제\n",
    "array = [7, 5, 9, 0, 3, 1, 6, 2, 4, 8]\n",
    "\n",
    "result = sorted(array)\n",
    "print(result)"
   ]
  },
  {
   "cell_type": "code",
   "execution_count": 38,
   "metadata": {},
   "outputs": [
    {
     "name": "stdout",
     "output_type": "stream",
     "text": [
      "[0, 1, 2, 3, 4, 5, 6, 7, 8, 9]\n"
     ]
    }
   ],
   "source": [
    "# 파이썬 정렬 라이브러리 sort 예제\n",
    "array = [7, 5, 9, 0, 3, 1, 6, 2, 4, 8]\n",
    "\n",
    "array.sort()\n",
    "print(array)"
   ]
  },
  {
   "cell_type": "markdown",
   "metadata": {},
   "source": [
    "***\n",
    "#### <예제 6-2. 위에서 아래로>\n",
    "\n",
    "입력 조건\n",
    "* 첫 번째 줄에 수열에 속해 있는 수의 개수 N이 주어진다. (1 <= N <= 500)\n",
    "* 두 번째 줄부터 N+1번째 줄까지 N개의 수가 입력된다. 수의 범위는 1 이상 100,000 이하의 자연수다.\n",
    "\n",
    "출력 조건\n",
    "* 입력으로 주어진 수역이 내림차순으로 정렬된 결과를 공백으로 구분하여 출력. 동일한 수의 순서는 자유롭게 출력해도 괜찮다. \n",
    "\n",
    "입력 예시\n",
    "```\n",
    "3\n",
    "15\n",
    "27\n",
    "12\n",
    "```\n",
    "\n",
    "출력 예시\n",
    "```\n",
    "27 15 12\n",
    "```\n",
    "\n"
   ]
  },
  {
   "cell_type": "code",
   "execution_count": 32,
   "metadata": {},
   "outputs": [
    {
     "name": "stdout",
     "output_type": "stream",
     "text": [
      "27 15 12 "
     ]
    }
   ],
   "source": [
    "# n 입력받기\n",
    "n = int(input())\n",
    "\n",
    "# 정수를 저장할 리스트 선언\n",
    "array = []\n",
    "\n",
    "for i in range(n):\n",
    "    # n번 정수 입력받아 정수형으로 변환\n",
    "    data = int(input())\n",
    "    # 리스트에 추가\n",
    "    array.append(data)\n",
    "\n",
    "# 내림차순으로 정렬\n",
    "array.sort(reverse=True)\n",
    "\n",
    "# 정렬된 결과를 공백으로 구분하여 출력\n",
    "for i in array:\n",
    "    print(i, end=' ')"
   ]
  },
  {
   "cell_type": "markdown",
   "metadata": {},
   "source": [
    "***\n",
    "\n",
    "#### <예제 6-3. 성적이 낮은 순서로 학생 출력하기>\n",
    "\n",
    "입력 조건\n",
    "* 첫 번째 줄에 학생의 수 N이 입력된다. (1 <= N <= 100,000)\n",
    "* 두 번째 줄부터 N+1번째 줄에는 학생의 이름을 나타내는 문자열 A와 학생의 성적을 나타내는 정수 B가 공백으로 구분되어 입력된다. 문자열 A의 길이와 학생의 성적은 100 이하의 자연수이다. \n",
    "\n",
    "출력 조건\n",
    "* 모든 학생의 이름을 성적이 낮은 순서대로 출력한다. 성적이 동일한 학생들의 순서는 자유롭게 출력해도 괜찮다. \n",
    "\n",
    "입력 예시\n",
    "```\n",
    "2\n",
    "홍길동 95\n",
    "이순신 77\n",
    "```\n",
    "\n",
    "출력 예시\n",
    "```\n",
    "이순신 홍길동\n",
    "```"
   ]
  },
  {
   "cell_type": "code",
   "execution_count": 25,
   "metadata": {},
   "outputs": [
    {
     "name": "stdout",
     "output_type": "stream",
     "text": [
      "이순신 홍길동 "
     ]
    }
   ],
   "source": [
    "# 학생의 수 입력받기\n",
    "n = int(input())\n",
    "\n",
    "# 학생 정보를 넣을 리스트 선언\n",
    "array = []\n",
    "\n",
    "for i in range(n):\n",
    "    # 공백을 기준으로 학생 정보를 n번 입력 받기\n",
    "    data = input().split()\n",
    "    # 이름은 문자열 그대로, 점수는 정수형으로 변환하여 튜플 형태로 리스트에 저장\n",
    "    array.append((data[0], int(data[1])))\n",
    "\n",
    "# 각 student 튜플에서 두 번째 요소인 성적을 추출하고, 이를 기반으로 리스트를 정렬\n",
    "array = sorted(array, key = lambda student: student[1])\n",
    "\n",
    "# 정렬된 리스트의 이름들을 공백으로 구분하여 출력\n",
    "for student in array:\n",
    "    print(student[0], end=' ')"
   ]
  },
  {
   "cell_type": "markdown",
   "metadata": {},
   "source": [
    "***\n",
    "\n",
    "#### <예제 6-4. 두 배열의 원소 교체>\n",
    "\n",
    "입력 조건\n",
    "* 첫 번째 줄에 N, K가 공백을 기준으로 구분되어 입력된다. (1 <= N <= 100,000, 0 <= K <= N)\n",
    "* 두 번째 줄에 배열 A의 원소들이 공백을 기준으로 구분되어 입력된다. 모든 원소는 10,000,000보다 작은 자연수다.\n",
    "* 세 번째 줄에 배열 B의 원소들이 공백을 기준으로 구분되어 입력된다. 모든 원소는 10,000,000보다 작은 자연수다.\n",
    "\n",
    "출력 조건\n",
    "* 최대 K번의 바꿔치기 연산을 수행하여 만들 수 있는 배열 A의 모든 원소의 합의 최댓값을 출력한다. \n",
    "\n",
    "입력 예시\n",
    "```\n",
    "5 3\n",
    "1 2 5 4 3\n",
    "5 5 6 6 5\n",
    "```\n",
    "\n",
    "출력 예시\n",
    "```\n",
    "26\n",
    "```"
   ]
  },
  {
   "cell_type": "code",
   "execution_count": 9,
   "metadata": {},
   "outputs": [
    {
     "name": "stdout",
     "output_type": "stream",
     "text": [
      "26\n"
     ]
    }
   ],
   "source": [
    "# 매번 배열 A에서 가장 작은 원소를 골라서, 배열 B에서 가장 큰 원소와 교체한다.\n",
    "\n",
    "# N,K 입력받기\n",
    "n,k = map(int, input().split())\n",
    "\n",
    "# 공백을 기준으로 배열 A와 B의 원소를 입력받아 리스트로 선언\n",
    "a = list(map(int, input().split()))\n",
    "b = list(map(int, input().split()))\n",
    "\n",
    "# 배열 A에 대하여 오름차순 정렬\n",
    "a.sort()\n",
    "\n",
    "# 배열 B에 대하여 내림차순 정렬\n",
    "b.sort(reverse= True)\n",
    "\n",
    "# 첫 번째 인덱스부터 확인하며, 두 배열의 원소를 최대 K번 비교\n",
    "for i in range(k):\n",
    "    # A의 원소가 B의 원소보다 작을 경우\n",
    "    if a[i] < b[i]:\n",
    "        # 두 원소를 교체\n",
    "        a[i], b[i] = b[i], a[i]\n",
    "    # A의 원소가 B의 원소보다 크거나 같은 경우 반복문 종료\n",
    "    else:\n",
    "        break\n",
    "\n",
    "print(sum(a))"
   ]
  }
 ],
 "metadata": {
  "kernelspec": {
   "display_name": "Python 3",
   "language": "python",
   "name": "python3"
  },
  "language_info": {
   "codemirror_mode": {
    "name": "ipython",
    "version": 3
   },
   "file_extension": ".py",
   "mimetype": "text/x-python",
   "name": "python",
   "nbconvert_exporter": "python",
   "pygments_lexer": "ipython3",
   "version": "3.11.5"
  }
 },
 "nbformat": 4,
 "nbformat_minor": 2
}
