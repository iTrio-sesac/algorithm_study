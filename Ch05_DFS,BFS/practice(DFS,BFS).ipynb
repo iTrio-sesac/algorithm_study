{
 "cells": [
  {
   "cell_type": "markdown",
   "metadata": {},
   "source": [
    "#### DFS\n",
    "\n",
    "인접행렬 방식과 인접리스트 방식"
   ]
  },
  {
   "cell_type": "code",
   "execution_count": 2,
   "metadata": {},
   "outputs": [
    {
     "name": "stdout",
     "output_type": "stream",
     "text": [
      "[[0, 7, 5], [7, 0, 9999999], [5, 9999999, 0]]\n"
     ]
    }
   ],
   "source": [
    "# 인접 행렬\n",
    "\n",
    "INF = 9999999\n",
    "\n",
    "graph = [\n",
    "    [0,7,5],\n",
    "    [7,0,INF],\n",
    "    [5,INF,0]\n",
    "]\n",
    "\n",
    "print(graph)"
   ]
  },
  {
   "cell_type": "code",
   "execution_count": 3,
   "metadata": {},
   "outputs": [
    {
     "name": "stdout",
     "output_type": "stream",
     "text": [
      "[[(1, 7), (2, 5)], [(0, 7)], [(0, 5)]]\n"
     ]
    }
   ],
   "source": [
    "# 인접 리스트\n",
    "\n",
    "graph = [[] for _ in range(3)]\n",
    "\n",
    "graph[0].append((1,7))\n",
    "graph[0].append((2,5))\n",
    "\n",
    "graph[1].append((0,7))\n",
    "\n",
    "graph[2].append((0,5))\n",
    "\n",
    "print(graph)"
   ]
  },
  {
   "cell_type": "markdown",
   "metadata": {},
   "source": [
    "#### DFS\n",
    "\n",
    "탐색 시작 노드를 스택에 삽입하고 방문 처리를 한다.\n",
    "\n",
    "스택의 최상단 노드에 방문하지 않은 인접 노드가 있다면 그 인접 노드를 스택에 넣고 방문 처리를 한다. 방문하지 않은 인접 노드가 없다면 스택에서 최상단 노드를 꺼낸다.\n",
    "\n",
    "만약 인접 노드가 여러개라면 노드 숫자가 작은 것부터 먼저 접근하는 것을 습관으로 하자.\n",
    "\n",
    "위 과정을 더이상 수행할 수 없을 때까지 반복."
   ]
  },
  {
   "cell_type": "code",
   "execution_count": 4,
   "metadata": {},
   "outputs": [
    {
     "name": "stdout",
     "output_type": "stream",
     "text": [
      "1 2 7 6 8 3 4 5 "
     ]
    }
   ],
   "source": [
    "# DFS 함수\n",
    "\n",
    "def dfs(graph, v, visited):\n",
    "    visited[v] = True\n",
    "    print(v, end=' ')\n",
    "\n",
    "    for i in graph[v]:\n",
    "        if not visited[i]:\n",
    "            dfs(graph, i, visited)\n",
    "\n",
    "graph = [\n",
    "    [],\n",
    "    [2,3,8],\n",
    "    [1,7],\n",
    "    [1,4,5],\n",
    "    [3,5],\n",
    "    [3,4],\n",
    "    [7],\n",
    "    [2,6,8],\n",
    "    [1,7]\n",
    "]\n",
    "\n",
    "visited = [False]*9\n",
    "\n",
    "dfs(graph,1,visited)"
   ]
  },
  {
   "cell_type": "markdown",
   "metadata": {},
   "source": [
    "#### BFS\n",
    "\n",
    "탐색 시작 노드를 큐에 삽입하고 방문 처리를 한다.\n",
    "\n",
    "큐에서 노드를 꺼내 해당 노드의 인접 노드 중에서 방문하지 않은 노드를 모두 큐에 삽입하고 방문 처리를 한다.\n",
    "\n",
    "위 과정을 더이상 수행할 수 없을 때까지 반복."
   ]
  },
  {
   "cell_type": "code",
   "execution_count": 5,
   "metadata": {},
   "outputs": [
    {
     "name": "stdout",
     "output_type": "stream",
     "text": [
      "1 2 3 8 7 4 5 6 "
     ]
    }
   ],
   "source": [
    "# BFS 함수\n",
    "\n",
    "from collections import deque\n",
    "\n",
    "def bfs(graph, start, visited):\n",
    "    queue = deque([start])\n",
    "    visited[start] = True\n",
    "\n",
    "    while queue:\n",
    "        v = queue.popleft()\n",
    "        print(v, end=' ')\n",
    "\n",
    "        for i in graph[v]:\n",
    "            if not visited[i]:\n",
    "                queue.append(i)\n",
    "                visited[i] = True\n",
    "\n",
    "graph = [\n",
    "    [],\n",
    "    [2,3,8],\n",
    "    [1,7],\n",
    "    [1,4,5],\n",
    "    [3,5],\n",
    "    [3,4],\n",
    "    [7],\n",
    "    [2,6,8],\n",
    "    [1,7]\n",
    "]\n",
    "\n",
    "visited = [False]*9\n",
    "\n",
    "bfs(graph, 1, visited)"
   ]
  },
  {
   "cell_type": "code",
   "execution_count": null,
   "metadata": {},
   "outputs": [],
   "source": []
  }
 ],
 "metadata": {
  "kernelspec": {
   "display_name": "yoonkt",
   "language": "python",
   "name": "python3"
  },
  "language_info": {
   "codemirror_mode": {
    "name": "ipython",
    "version": 3
   },
   "file_extension": ".py",
   "mimetype": "text/x-python",
   "name": "python",
   "nbconvert_exporter": "python",
   "pygments_lexer": "ipython3",
   "version": "3.9.7"
  }
 },
 "nbformat": 4,
 "nbformat_minor": 2
}
