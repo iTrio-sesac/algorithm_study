{
 "cells": [
  {
   "cell_type": "markdown",
   "metadata": {},
   "source": [
    "### 순차 탐색 Sequential Search이란?\n",
    "- 리스트 안에 있는 특정한 데이터를 찾기 위해 앞에서부터 데이터를 하나씩 차례대로 확인하는 방법  \n",
    "- 시간 복잡도 : 데이터의 개수가 N개일 때 최대 N번의 비교 연산이 필요해서 최악의 경우 시작 복잡도는 O(N) \n",
    "\n",
    "<br>\n",
    "\n",
    "### 이진 탐색 Binary Search이란?\n",
    "- 정렬되어 있는 리스트에서 탐색 범위를 절반씩 좁혀가며 데이터를 탐색하는 방법\n",
    "- 시작점, 끝점, 중간점을 이용하여 탐색 범위를 설정한다.\n",
    "- 데이터의 개수가 1,000만 개를 넘어가거나 탐색 범위의 크기가 1,000억 이상이라면 이진 탐색 알고리즘을 의심해보자. \n",
    "    - 입력 데이터가 많은 문제는 sys 라이브러리의 readline() 함수를 이용하면 시간 초과를 피할 수 있다. \n",
    "- 시간 복잡도 : 탐색 범위를 2로 나누는 것과 동일하므로 O(logN)의 시간 복잡도를 보장한다. \n",
    "\n",
    "<br>\n",
    "\n",
    "### 트리 자료구조\n",
    "- 데이터베이스는 내부적으로 대용량 데이터 처리에 적합한 트리tree 자료구조를 이용하여 데이터가 정렬된다. \n",
    "- 트리 자료구조는 노드와 노드의 연결로 표현되며, 노드는 정보의 단위로서 어떠한 정보를 가지고 있는 개체를 의미한다. \n",
    "- 그래프 자료구조의 일종으로 데이터베이스 시스템이나 파일 시스템과 같은 곳에서 많은 양의 데이터를 관리하기 위한 목적으로 사용한다. \n",
    "- 특징: \n",
    "    - 부모 노드와 자식 노드의 관계로 표현된다.\n",
    "    - 최상단 노드를 루트 노드, 최하단 노드를 단말 노드라고 한다. \n",
    "    - 트리에서 일부를 떼어내도 트리 구조이며 이를 서브 트리라 한다. \n",
    "\n",
    "<br>\n",
    "\n",
    "### 이진 탐색 트리\n",
    "- 트리 자료구조 중에서 가장 간단한 형태로 이진 탐색이 동작할 수 있도록 고안된, 효율적인 탐색이 가능한 자료구조이다. \n",
    "- 특징: \n",
    "    - 부모 노드보다 왼쪽 자식 노드가 작다.\n",
    "    - 부모 노드보다 오른쪽 자식 노드가 크다. \n",
    "    - 노드 크기: 왼쪽 자식 노드 < 부모 노드 < 오른쪽 자식 노드\n",
    "\n",
    "<br>\n",
    "\n",
    "### 파라메트릭 서치 Parametric Search\n",
    "- 최적화 문제를 결정 문제('예' 혹은 '아니오')로 바꾸어 해결하는 기법\n",
    "- 예시: 특정한 조건을 만족하는 가장 알맞은 값을 빠르게 찾는 최적화 문제\n",
    "- 파라메트릭"
   ]
  },
  {
   "cell_type": "markdown",
   "metadata": {},
   "source": [
    "***\n",
    "\n",
    "#### 예제 2. 부품 찾기\n",
    "동빈이네 전자 매장에는 부품이 N개가 있다. 각 부품은 정수 형태의 고유한 번호가 있다. 손님이 M개 종류의 부품을 대량으로 구매하겠다며 견적서를 요청했다. 손님이 문의한 부품 M개 종류를 모두 확인해서 견적서를 작성해야 한다. 가게 안에 부품이 모두 있는지 확인하는 프로그램을 작성한다. 부품이 있으면 yes를, 없으면 no를 출력한다. \n",
    "\n",
    "입력 예시\n",
    "```\n",
    "5\n",
    "8 3 7 9 2\n",
    "3\n",
    "5 7 9\n",
    "```\n",
    "<br>\n",
    "\n",
    "출력 예시\n",
    "```\n",
    "no yes yes\n",
    "```\n",
    "<br>\n",
    "\n",
    "입력 조건\n",
    "- 첫째 줄에 정수 N이 주어진다. (1 <= N <= 1,000,000)\n",
    "- 둘째 줄에는 공백으로 구분하여 N개의 정수가 주어진다. 이때, 정수는 1보다 크고 1,000,000 이하이다.\n",
    "- 셋째 줄에는 정수 M이 주어진다. (1 <= M <= 100,000)\n",
    "- 넷째 줄에는 공백로 구분하여 M개의 정수가 주어진다. 이때 정수는 1보다 크고 1,000,000 이하이다. \n",
    "\n",
    "출력 조건\n",
    "- 첫째 줄에 공백으로 구분하여 각 부품이 존재하면 yes를, 없으면 no를 출력한다. "
   ]
  },
  {
   "cell_type": "code",
   "execution_count": 1,
   "metadata": {},
   "outputs": [
    {
     "name": "stdout",
     "output_type": "stream",
     "text": [
      "no yes yes "
     ]
    }
   ],
   "source": [
    "# 내 풀이\n",
    "\n",
    "n = int(input())\n",
    "shop = list(map(int, input().split()))\n",
    "m = int(input())\n",
    "client = list(map(int, input().split()))\n",
    "\n",
    "for i in client:\n",
    "    if i in shop:\n",
    "        print(\"yes\", end=' ')\n",
    "    else: \n",
    "        print(\"no\", end= ' ')"
   ]
  },
  {
   "cell_type": "code",
   "execution_count": 2,
   "metadata": {},
   "outputs": [
    {
     "name": "stdout",
     "output_type": "stream",
     "text": [
      "no yes yes "
     ]
    }
   ],
   "source": [
    "# 책 풀이 (이진 탐색 - 반복문)\n",
    "\n",
    "def binary_search(array, target, start, end):\n",
    "    while start <= end:\n",
    "        mid = (start + end) // 2\n",
    "        # 찾은 경우 중간점 인덱스 반환\n",
    "        if array[mid] == target:\n",
    "            return mid\n",
    "        # 중간점의 값보다 찾고자 하는 값이 작은 경우 왼쪽 확인\n",
    "        elif array[mid] > target:\n",
    "            end = mid - 1\n",
    "        # 중간점의 값보다 찾고자 하는 값이 큰 경우 오른쪽 확인\n",
    "        else:\n",
    "            start = mid + 1\n",
    "    return None\n",
    "\n",
    "n = int(input())\n",
    "array = list(map(int, input().split()))\n",
    "# 이진 탐색을 수행하기 위해 사전에 정렬 수행\n",
    "array.sort()\n",
    "\n",
    "m = int(input())\n",
    "x = list(map(int, input().split()))\n",
    "\n",
    "# 손님이 확인 요청한 부품 번호를 하나씩 확인\n",
    "for i in x:\n",
    "    # 해당 부품이 존재하는지 확인\n",
    "    result = binary_search(array, i, 0, n-1)\n",
    "    if result != None:\n",
    "        print('yes', end=' ')\n",
    "    else: \n",
    "        print('no', end=' ')"
   ]
  },
  {
   "cell_type": "code",
   "execution_count": 3,
   "metadata": {},
   "outputs": [
    {
     "name": "stdout",
     "output_type": "stream",
     "text": [
      "no yes yes "
     ]
    }
   ],
   "source": [
    "# 책 풀이 (계수 정렬)\n",
    "\n",
    "n = int(input())\n",
    "array = [0] * 1000001\n",
    "\n",
    "# 가게에 있는 전체 부품 번호를 입력받아서 기록\n",
    "for i in input().split():\n",
    "    array[int(i)] = 1\n",
    "\n",
    "m = int(input())\n",
    "x = list(map(int, input().split()))\n",
    "\n",
    "# 손님이 확인 요청한 부품 번호를 하나씩 확인\n",
    "for i in x:\n",
    "    # 해당 부품이 존재하는지 확인\n",
    "    if array[i] == 1:\n",
    "        print('yes', end=' ')\n",
    "    else:\n",
    "        print('no', end=' ')"
   ]
  },
  {
   "cell_type": "code",
   "execution_count": 4,
   "metadata": {},
   "outputs": [
    {
     "name": "stdout",
     "output_type": "stream",
     "text": [
      "no yes yes "
     ]
    }
   ],
   "source": [
    "# 책 풀이 (집합 자료형)\n",
    "\n",
    "n = int(input())\n",
    "\n",
    "# 가게에 있는 전체 부품 번호를 입력받아서 집합(set) 자료형에 기록\n",
    "array = set(map(int, input().split()))\n",
    "\n",
    "m = int(input())\n",
    "x = list(map(int, input().split()))\n",
    "\n",
    "for i in x:\n",
    "    if i in array:\n",
    "        print('yes', end=' ')\n",
    "    else:\n",
    "        print('no', end=' ')"
   ]
  },
  {
   "cell_type": "markdown",
   "metadata": {},
   "source": [
    "*** \n",
    "\n",
    "#### 예제 3. 떡볶이 떡 만들기\n",
    "\n",
    "동빈이네 떡볶이 떡의 길이는 일정하지 않다. 절단기에 높이 H를 지정하면 줄지어진 떡을 한 번에 절단한다. 높이가 H보다 긴 떡은 H 위의 부분이 잘릴 것이고, 낮은 떡은 잘리지 않는다.    \n",
    "예를 들어 높이가 19, 14, 10, 17cm인 떡이 나란히 있고 절단기 높이를 15cm로 지정하면 자른 뒤 떡의 높이는 15, 14, 10, 15cm가 될 것이다. 잘린 떡의 길이는 차례대로 4, 0, 0, 2cm이다. 손님은 6cm만큼의 길이를 가져간다.    \n",
    "손님이 요청한 총 길이가 M일 때 적어도 M만큼의 떡을 얻기 위해 절단기에 설정할 수 있는 높이의 최댓값을 구하는 프로그램을 작성한다. \n",
    "\n",
    "입력 예시\n",
    "```\n",
    "4 6\n",
    "19 15 10 17\n",
    "```\n",
    "<br>\n",
    "\n",
    "출력 예시\n",
    "```\n",
    "15\n",
    "```\n",
    "<br>\n",
    "\n",
    "입력 조건\n",
    "- 첫째 줄에 떡의 개수 N과 요청한 떡의 길이 M이 주어진다. (1 <= N <= 1,000,000, a <= M <= 2,000,000,000)\n",
    "- 둘째 줄에는 떡의 개별 높이가 주어진다. 떡 높이의 총합은 항상 M 이상이므로, 손님은 필요한 양만큼 떡을 사갈 수 있다. 높이는 10억보다 작거나 같은 양의 정수 또는 0이다.\n",
    "\n",
    "출력 조건\n",
    "- 적어도 M만큼의 떡을 집에 가져가기 위해 절단기에 설정할 수 있는 높이의 최댓값을 출련한다. \n",
    "\n"
   ]
  },
  {
   "cell_type": "code",
   "execution_count": 10,
   "metadata": {},
   "outputs": [
    {
     "name": "stdout",
     "output_type": "stream",
     "text": [
      "15\n"
     ]
    }
   ],
   "source": [
    "# 떡의 개수n과 요청한 떡의 길이M을 공백으로 구분하여 입력받기\n",
    "n, m = map(int, input().split())\n",
    "\n",
    "# 각 떡의 개별 높이 입력받기\n",
    "array = list(map(int, input().split()))\n",
    "\n",
    "# 이진 탐색을 위한 시작점과 끝점 설정\n",
    "start = 0\n",
    "end = max(array)\n",
    "\n",
    "# 이진 탐색 수행\n",
    "result = 0\n",
    "while (start <= end):\n",
    "    total = 0\n",
    "    mid = (start + end) // 2\n",
    "    for x in array:\n",
    "        # 잘랐을 때의 떡의 양 계산\n",
    "        if x > mid:\n",
    "            total += x - mid\n",
    "    # 떡의 양이 부족한 경우 더 많이 자르기 (왼쪽 부분 탐색)\n",
    "    if total < m:\n",
    "        end = mid - 1\n",
    "    # 떡의 양이 충분한 경우 덜 자르기 (오른쪽 부분 탐색)\n",
    "    else:\n",
    "        # 최대한 덜 잘랐을 때가 정답이므로, 여기에서 result에 기록\n",
    "        result = mid\n",
    "        start = mid + 1\n",
    "\n",
    "print(result)"
   ]
  }
 ],
 "metadata": {
  "kernelspec": {
   "display_name": "Python 3",
   "language": "python",
   "name": "python3"
  },
  "language_info": {
   "codemirror_mode": {
    "name": "ipython",
    "version": 3
   },
   "file_extension": ".py",
   "mimetype": "text/x-python",
   "name": "python",
   "nbconvert_exporter": "python",
   "pygments_lexer": "ipython3",
   "version": "3.11.5"
  }
 },
 "nbformat": 4,
 "nbformat_minor": 2
}
