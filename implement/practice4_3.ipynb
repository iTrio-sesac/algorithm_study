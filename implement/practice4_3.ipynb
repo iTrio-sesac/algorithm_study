{
 "cells": [
  {
   "cell_type": "code",
   "execution_count": 17,
   "metadata": {},
   "outputs": [],
   "source": [
    "knight = input()"
   ]
  },
  {
   "cell_type": "code",
   "execution_count": 18,
   "metadata": {},
   "outputs": [],
   "source": [
    "knight = list(knight)"
   ]
  },
  {
   "cell_type": "code",
   "execution_count": 26,
   "metadata": {},
   "outputs": [
    {
     "name": "stdout",
     "output_type": "stream",
     "text": [
      "99 2\n"
     ]
    }
   ],
   "source": [
    "knight_row = ord(knight[0])\n",
    "knight_col = int(knight[1])\n",
    "print(knight_row,knight_col)"
   ]
  },
  {
   "cell_type": "code",
   "execution_count": 27,
   "metadata": {},
   "outputs": [],
   "source": [
    "moving_row = [2,-2,1,-1]\n",
    "moving_col = [1,-1,2,-2]"
   ]
  },
  {
   "cell_type": "code",
   "execution_count": 29,
   "metadata": {},
   "outputs": [
    {
     "name": "stdout",
     "output_type": "stream",
     "text": [
      "6\n"
     ]
    }
   ],
   "source": [
    "cnt = 0\n",
    "\n",
    "for i in range(2):\n",
    "    for j in range(2):\n",
    "        temp_knight_row = knight_row + moving_row[i]\n",
    "        temp_knight_col = knight_col + moving_col[j]\n",
    "        if temp_knight_row>104 or temp_knight_col>8 or temp_knight_row<97 or temp_knight_col<1:\n",
    "            continue\n",
    "        cnt += 1\n",
    "\n",
    "for i in range(2,4):\n",
    "    for j in range(2,4):\n",
    "        temp_knight_row = knight_row + moving_row[i]\n",
    "        temp_knight_col = knight_col + moving_col[j]\n",
    "        if temp_knight_row>104 or temp_knight_col>8 or temp_knight_row<97 or temp_knight_col<1:\n",
    "            continue\n",
    "        cnt += 1\n",
    "\n",
    "print(cnt)"
   ]
  },
  {
   "cell_type": "markdown",
   "metadata": {},
   "source": [
    "아래는 답변 코드"
   ]
  },
  {
   "cell_type": "code",
   "execution_count": null,
   "metadata": {},
   "outputs": [],
   "source": [
    "# 현재 나이트의 위치 입력받기\n",
    "input_data = input()\n",
    "row = int(input_data[1])\n",
    "column = int(ord(input_data[0])) - int(ord('a')) + 1\n",
    "\n",
    "# 나이트가 이동할 수 있는 8가지 방향 정의\n",
    "steps = [(-2, -1), (-1, -2), (1, -2), (2, -1), (2, 1), (1, 2), (-1, 2), (-2, 1)]\n",
    "\n",
    "# 8가지 방향에 대하여 각 위치로 이동이 가능한지 확인\n",
    "result = 0\n",
    "for step in steps:\n",
    "    # 이동하고자 하는 위치 확인\n",
    "    next_row = row + step[0]\n",
    "    next_column = column + step[1]\n",
    "    # 해당 위치로 이동이 가능하다면 카운트 증가\n",
    "    if next_row >= 1 and next_row <= 8 and next_column >= 1 and next_column <= 8:\n",
    "        result += 1\n",
    "\n",
    "print(result)"
   ]
  },
  {
   "cell_type": "markdown",
   "metadata": {},
   "source": [
    "예제 4-1(상하좌우)에서 착안한 방법으로 이동 방법을 정하려니\n",
    "for문을 2번 쓸수밖에 없었다.\n",
    "하지만 이동할 수 있는 방법의 갯수가 최대 8개이므로 리스트로 각 경우의 수를 전부\n",
    "만들고 하나씩 대입하는 것이 보기에도 좋고 코드 실행 시간도 단축시킬 수 있는 좋은 방안이다.\n"
   ]
  }
 ],
 "metadata": {
  "kernelspec": {
   "display_name": "base",
   "language": "python",
   "name": "python3"
  },
  "language_info": {
   "codemirror_mode": {
    "name": "ipython",
    "version": 3
   },
   "file_extension": ".py",
   "mimetype": "text/x-python",
   "name": "python",
   "nbconvert_exporter": "python",
   "pygments_lexer": "ipython3",
   "version": "3.11.5"
  }
 },
 "nbformat": 4,
 "nbformat_minor": 2
}
