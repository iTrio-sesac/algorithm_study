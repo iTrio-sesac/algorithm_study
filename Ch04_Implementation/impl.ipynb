{
 "cells": [
  {
   "cell_type": "code",
   "execution_count": null,
   "metadata": {},
   "outputs": [],
   "source": []
  },
  {
   "cell_type": "markdown",
   "metadata": {},
   "source": [
    "# 구현 \n",
    "implementation - 알고리즘울 소스코드로 바꾸는 과정이다. \n",
    "구현 유형의 문제란 - 풀이를 떠올ㄹ리는 것은 쉽지만 소스코드로 욺기기 어려운 문제를 지칭합니다.\n",
    "\n",
    "구현 유형의 예시는 다음과 같습니다.\n",
    " - 알고리즘은 간단한데 코드가 지나칠 만큼 길어지는 문제\n",
    " - 실수 연산을 다루고, 특정 소수점 자리까지 출력해야 하는 문제\n",
    " - 문자열을 특정한 기준에 따라서 끊어 처리해야 하는 문제\n",
    " - 적절한 라이브러리를 찾아서 사용해야 하는 문제\n",
    "\n",
    "- 완전 탐색 - 모든 경우의 수를 주저 없이 다 계산하는 해결 방법. exhaustive search   or a brute-force solution \n",
    "A brute-force solution is one in which you try each possible answer, one at a time, to locate the best possible answer. (This is also called an exhaustive approach, mostly because you’re so tired when you finish.) \n",
    "\n",
    "- 시뮬레이션(Simulation) - 문제에서 제시한 알고리즘을 한 단계씩 차례대로 직접 수행.\n",
    "풀이를 떠올리는 것은 쉽지만 소스코드로 옮기기 어려운 문제\n",
    "\n",
    "알고리즘 풀 때는 시간 제한과 데이터의 개수를 먼저 확인해야 하고 이 문제를 어느 정도 시간 복잡도의 알고리즘으로 작성해야 풀 수 있을 것인지 예측할 수 있어야 함."
   ]
  },
  {
   "cell_type": "markdown",
   "metadata": {},
   "source": [
    "\n"
   ]
  },
  {
   "cell_type": "markdown",
   "metadata": {},
   "source": [
    "향렬 - matrix \n"
   ]
  },
  {
   "cell_type": "markdown",
   "metadata": {},
   "source": []
  }
 ],
 "metadata": {
  "language_info": {
   "name": "python"
  }
 },
 "nbformat": 4,
 "nbformat_minor": 2
}
