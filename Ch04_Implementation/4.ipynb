{
 "cells": [
  {
   "cell_type": "markdown",
   "metadata": {},
   "source": [
    "### 구현(Implementation)이란?   \n",
    "머릿속에 있는 알고리즘을 소스코드로 바꾸는 과정   \n",
    "풀이를 떠올리는 것은 쉽지만 소스코드로 옮기기 어려운 문제를 구현 유형의 문제라고 한다. \n",
    "\n",
    "구현 유형: \n",
    "* 완전 탐색: 모든 경우의 수를 주저 없이 계산하는 해결 방법\n",
    "* 시뮬레이션: 문제에서 제시한 알고리즘을 한 단계씩 차례대로 직접 수행하는 유형\n",
    "   \n",
    "* * * "
   ]
  },
  {
   "cell_type": "markdown",
   "metadata": {},
   "source": [
    "#### <예제 4-1. 상하좌우 (시뮬레이션 유형)>\n",
    "\n",
    "N * N인 정사각형 공간에서 여행 계획서에 따라 움직임\n",
    " \n",
    "L : 왼쪽으로 한 칸 이동\n",
    "R : 오른쪽으로 한 칸 이동\n",
    "U: 위로 한 칸 이동\n",
    "D : 아래로 한 칸 이동\n",
    " \n",
    "이 때, 여행자가 N * N 크기의 정사각형 공간을 벗어나는 움직임은 무시됨\n",
    "\n",
    "\n",
    "입력 조건:\n",
    "* 첫째 줄에 공간의 크기를 나타내는 N이 주어진다. (1<= N <= 100)\n",
    "* 둘째 줄에 여행가 A가 이동할 계획서 내용이 주어진다. \n",
    "\n",
    "출력 조건: \n",
    "* 첫째 줄에 여행가 A가 최종적으로 도착할 지점의 좌표(X,Y)를 공백으로 구분하여 출력한다. \n",
    "\n",
    "이때 여행가 A가 N * N 크기의 정사각형 공간을 벗어나는 움직임은 무시된다.   \n"
   ]
  },
  {
   "cell_type": "code",
   "execution_count": 12,
   "metadata": {},
   "outputs": [
    {
     "name": "stdout",
     "output_type": "stream",
     "text": [
      "3 4\n"
     ]
    }
   ],
   "source": [
    "# 공간의 크기 입력 받아 정수형으로 변환\n",
    "N = int(input())\n",
    "\n",
    "# 공백으로 구분하여 이동할 방향 입력 받기\n",
    "moves = input().split()\n",
    "\n",
    "# 최초 좌표 설정\n",
    "x = 1\n",
    "y = 1\n",
    "\n",
    "# 입력 받은 방향을 하나씩 확인하기\n",
    "for i in moves:\n",
    "    # 만약 i가 L이고 1보다 크면 1 감소하고 다시 y로 할당\n",
    "    if i == 'L':\n",
    "        if y > 1:\n",
    "            y -= 1\n",
    "    # 만약 i가 R이고 공간의 크기보다 작으면 1 증가하고 다시 y로 할당\n",
    "    elif i == 'R':\n",
    "        if y < N: \n",
    "            y += 1\n",
    "    # 만약 i가 U이고 1보다 크면 1 감소하고 다시 x로 할당\n",
    "    elif i == 'U':\n",
    "        if x > 1:\n",
    "            x -= 1\n",
    "    # 만약 i가 D이고 공간의 크기보다 작으면 1 증가하고 다시 x로 할당\n",
    "    elif i == 'D':\n",
    "        if x < N:\n",
    "            x += 1\n",
    "\n",
    "print(x, y)"
   ]
  },
  {
   "cell_type": "markdown",
   "metadata": {},
   "source": [
    "책 풀이:   \n",
    "일반적으로 방향을 설정해서 이동하는 문제유형에서는 dx,dy라는 별도의 리스트를 만들어 방향을 정하는 것이 효과적이다. "
   ]
  },
  {
   "cell_type": "code",
   "execution_count": null,
   "metadata": {},
   "outputs": [],
   "source": [
    "n = int(input())\n",
    "\n",
    "x, y = 1, 1\n",
    "\n",
    "plans = input().split()\n",
    "\n",
    "#상,하,좌,우로 이동하는 경우의 x축과 y축의 변화를 리스트에 담아 변수에 저장\n",
    "dx = [0, 0, -1, 1]\n",
    "dy = [-1, 1, 0, 0]\n",
    "\n",
    "# 이동 계획 문자열에서 각 알파벳이 어떤 방향을 나타내는지 리스트로 정의\n",
    "move_types = ['L', 'R', 'U', 'D']\n",
    "\n",
    "# 각 이동 계획에 대해 'move_types'리스트를 확인하고 어떤 방향을 나타내는지 확인하여 새로운 위치인 nx,ny 변수에 저장\n",
    "for plan in plans:\n",
    "    # 리스트의 길이만큼 반복하는 \n",
    "    for i in range(len(move_types)):\n",
    "        if plan == move_types[i]:\n",
    "            nx = x + dx[i]\n",
    "            ny = y + dy[i]\n",
    "            \n",
    "    # 새로운 위치가 범위n를 벗어나면 무시하고 다음 이동 계획을 처리\n",
    "    if nx < 1 or ny < 1 or nx > n or ny > n:\n",
    "        continue\n",
    "    \n",
    "    # 새로운 위치를 저장\n",
    "    x, y = nx, ny\n",
    "\n",
    "print(x, y)"
   ]
  },
  {
   "cell_type": "markdown",
   "metadata": {},
   "source": [
    "* * *\n",
    "\n",
    "#### <예제 4-2. 시각 (완전 탐색 문제 유형)>\n",
    "\n",
    "정수 N이 입력되면 00시 00분 00초 ~ N시 59분 59초까지의 시각 중 3이 하나라도 포함되는 모든 경우의 수 구하기\n",
    "\n",
    "입력 조건:\n",
    "* 첫째 줄에 정수 N이 입력된다. (0 <= N <= 23)\n",
    "\n",
    "출력 조건: \n",
    "* 00시 00분 00초부터 N시 59분 59초까지의 모든 시각 중에서 3이 하나라도 포함되는 모든 경우의 수를 출력한다. \n"
   ]
  },
  {
   "cell_type": "code",
   "execution_count": 16,
   "metadata": {},
   "outputs": [
    {
     "data": {
      "text/plain": [
       "11475"
      ]
     },
     "execution_count": 16,
     "metadata": {},
     "output_type": "execute_result"
    }
   ],
   "source": [
    "# 입력 받은 수를 정수형으로 변환\n",
    "n = int(input())\n",
    "\n",
    "# 0부터 59 중 3이 들어가는 수를 저장한 리스트\n",
    "list_3 = [3, 13, 23, 30, 31, 32, 33, 34, 35, 36, 37, 38, 39, 43, 53]\n",
    "\n",
    "# 초기 경우의 수 설정\n",
    "count = 0\n",
    "\n",
    "# 0부터 n시까지의 각 정수에 반복문 실행\n",
    "for hour in range(n+1):\n",
    "    # 0부터 59분까지의 각 정수에 반복문 실행\n",
    "    for minute in range(60):\n",
    "        # 0부터 59초까지의 각 정수에 반복분 실행\n",
    "        for second in range(60):\n",
    "            # 만약 시, 분, 초의 요소가 리스트에 포함된다면 count가 1 증가\n",
    "            if second in list_3 or minute in list_3 or hour in list_3:\n",
    "                count += 1\n",
    "\n",
    "print(count)"
   ]
  },
  {
   "cell_type": "markdown",
   "metadata": {},
   "source": [
    "책 풀이"
   ]
  },
  {
   "cell_type": "code",
   "execution_count": 17,
   "metadata": {},
   "outputs": [
    {
     "name": "stdout",
     "output_type": "stream",
     "text": [
      "11475\n"
     ]
    }
   ],
   "source": [
    "n = int(input())\n",
    "\n",
    "count = 0\n",
    "\n",
    "for i in range(n+1):\n",
    "    for j in range(60):\n",
    "        for k in range(60):\n",
    "            if '3' in str(i) + str(j) + str(k):\n",
    "                count += 1\n",
    "\n",
    "print(count)"
   ]
  },
  {
   "cell_type": "markdown",
   "metadata": {},
   "source": [
    "* * *\n",
    "\n",
    "##### <예제 4-3. 왕실의 나이트>    \n",
    "\n",
    "행복 왕국 왕실 정원 8*8 좌표 평면(행 위치 - 1~8, 열 위치 - a~h)\n",
    " \n",
    "나이트는 이동할 때 L자 형태로만 이동 가능, 정원 밖으로는 나갈 수 없다. 특정한 위치에서 2가지 경우로 이동 할 수 있다.\n",
    " 1) 수평으로 두 칸 이동한 뒤에 수직으로 한 칸 이동하기( →→↑, 화살표 반대로도 가능)\n",
    " 2) 수직으로 두 칸 이동한 뒤에 수평으로 한 칸 이동하기(↑↑→, 화살표 반대로도 가능)\n",
    " \n",
    "나이트가 이동할 수 있는 경우의 수 출력하기.\n",
    "\n",
    "입력 조건:\n",
    "* 첫째 줄에 8 X 8 좌표 평면상에서 현재 나이트가 위치한 곳이 좌표를 나타내는 두 문자로 구성된 문자열이 입력된다. 입력 문자는 a1처럼 열과 행으로 이뤄진다. \n",
    "\n",
    "출력 조건: \n",
    "* 첫째 줄에 나이트가 이동할 수 있는 경우의 수를 출력하시오. \n"
   ]
  },
  {
   "cell_type": "code",
   "execution_count": null,
   "metadata": {},
   "outputs": [
    {
     "name": "stdout",
     "output_type": "stream",
     "text": [
      "8\n"
     ]
    }
   ],
   "source": [
    "# 현재 좌표 입력받기\n",
    "user_input = input()\n",
    "\n",
    "# 문자열의 0번 인덱스는 x, 문자열의 1번 인덱스는 정수형으로 변환 후 y에 할당\n",
    "x = user_input[0]\n",
    "y = int(user_input[1])\n",
    "\n",
    "# 문자열 숫자로 변환\n",
    "if x == 'a':\n",
    "    x = 1\n",
    "elif x == 'b':\n",
    "    x = 2\n",
    "elif x == 'c':\n",
    "    x = 3\n",
    "elif x == 'd':\n",
    "    x = 4\n",
    "elif x == 'e':\n",
    "    x = 5\n",
    "elif x == 'f':\n",
    "    x = 6\n",
    "elif x == 'g':\n",
    "    x = 7\n",
    "elif x == 'h':\n",
    "    x = 8\n",
    "\n",
    "# 이동할 수 있는 경로를 리스트로 저장\n",
    "move_x = [-2, -2, -1, -1, 1, 1, 2, 2 ]\n",
    "move_y = [-1, 1, -2, 2, -2, 2, -1, 1]\n",
    "\n",
    "# 초기 경우의 수 설정\n",
    "count = 0 \n",
    "\n",
    "# 이동할 수 있는 경로의 리스트 요소 개수만큼 반복\n",
    "for i in range(8):\n",
    "    # 입력 받은 x, y에 이동할 수 있는 경로의 인덱스에 해당하는 수를 더하고 새로운 변수로 저장\n",
    "    new_x = x + move_x[i]\n",
    "    new_y = y + move_y[i]\n",
    "    # 만약 아래 조건을 충족하면 count가 1 증가\n",
    "    if new_x >= 1 and new_x <= 8 and new_y >= 1 and new_y <= 8:\n",
    "        count += 1\n",
    "    \n",
    "print(count)"
   ]
  },
  {
   "cell_type": "markdown",
   "metadata": {},
   "source": [
    "책 풀이"
   ]
  },
  {
   "cell_type": "code",
   "execution_count": null,
   "metadata": {},
   "outputs": [
    {
     "name": "stdout",
     "output_type": "stream",
     "text": [
      "2\n"
     ]
    }
   ],
   "source": [
    "input_data = input()\n",
    "row = int(input_data[1])\n",
    "column = int(ord(input_data[0])) - int(ord('a')) + 1\n",
    "\n",
    "steps = [(-2, -1), (-1, -2), (1, -2), (2, -1), (2, 1), (1, 2), (-1, 2), (-2, 1) ]\n",
    "\n",
    "result = 0\n",
    "\n",
    "for step in steps:\n",
    "    next_row = row + step[0]\n",
    "    next_column = column + step[1]\n",
    "\n",
    "    if next_row >= 1 and next_row <= 8 and next_column >= 1 and next_column <= 8:\n",
    "        result += 1\n",
    "\n",
    "print(result)"
   ]
  },
  {
   "cell_type": "markdown",
   "metadata": {},
   "source": [
    "* * *\n",
    "\n",
    "##### <예제 4-4. 게임 개발>\n",
    "\n",
    "N * M 크기의 직사각형. 각각의 칸은 육지 또는 바다. 캐릭터는 동서남북 중 한 곳을 바라본다.\n",
    "맵의 각 칸은 (A,B) → A는 북쪽으로부터 떨어진 칸의 개수, B는 서쪽으로부터 떨어진 칸의 개수.\n",
    " \n",
    "캐릭터는 상하좌우로 움직일 수 있고, 바다로 되어 있는 공간에는 갈 수 없다.\n",
    " \n",
    "캐릭터 설정 메뉴얼은 다음과 같다.\n",
    " 1) 현재 위치 - 현재 방향을 기준으로 왼쪽 방향부터 차례대로 갈 곳을 정한다.\n",
    " 2) 캐릭터의 바로 왼쪽에 아직 가보지 않는 칸이 존재O → 왼쪽 방향으로 회전 후 왼쪽으로 한 칸 전진\n",
    "     왼쪽에 가보지 않는 칸이 존재하지 X → 왼쪽 방향으로 회전만 수행 후 1단계로 돌아감\n",
    " 3) 만약 네 방향 모두 이미 가본 칸 or  바다로 되어 있는 칸 → 바라보는 방향 유지한 채, 뒤로 한 칸 이동. 1단계로 돌아간다. (뒤쪽 방향이 바다인 칸이라 뒤로 갈 수 없는 경우는 움직임을 멈춘다.)\n",
    " \n",
    "위 방법을 반복적으로 수행하면서 캐릭터의 움직임에 이상 있는지 테스트하려한다.\n",
    "캐릭터가 방문한 칸의 수를 출력하는 프로그램을 만드시오.\n",
    "\n",
    "입력 조건:\n",
    "* 첫째 줄에 맵의 세로 크기 N과 가로 크기 M을 공백으로 구분하여 입력한다. (3 <= N, M <= 50)\n",
    "* 둘째 줄에 게임 캐릭터가 있는 칸의 좌표 (A,B)와 바라보는 방향 d가 각각 서로 공백으로 구분하여 주어진다. 방향 d의 값으로는 다음과 같이 4가지가 존재한다. \n",
    "    * 0: 북쪽\n",
    "    * 1: 동쪽\n",
    "    * 2: 남쪽\n",
    "    * 3: 서쪽\n",
    "* 셋째 줄부터 맵이 육지인지 바다인지에 대한 정보가 주어진다. N개의 줄에 맵의 상태가 북쪽부터 남쪽 순서대로, 각 줄의 데이터는 서쪽부터 동쪽 순서대로 주어진다. 맵의 외곽은 항상 바다로 되어 있다. \n",
    "    * 0: 육지\n",
    "    * 1: 바다\n",
    "* 처음에 게임 캐릭터가 위치한 칸의 상태는 항상 육지이다.\n",
    "\n",
    "\n",
    "출력 조건: \n",
    "* 첫째 줄에 이동을 마친 후 캐릭터가 방문한 칸의 수를 출력한다.  \n"
   ]
  },
  {
   "cell_type": "code",
   "execution_count": null,
   "metadata": {},
   "outputs": [
    {
     "name": "stdout",
     "output_type": "stream",
     "text": [
      "4 4\n",
      "1 1 0\n",
      "1 1 1 1\n",
      "1 0 0 1\n",
      "1 1 0 1\n",
      "1 1 1 1\n"
     ]
    }
   ],
   "source": [
    "# 맵의 세로n, 가로m 크기를 공백을 기준으로 입력 받아 정수형으로 변환 후 변수에 저장\n",
    "n, m = map(int, input().split())\n",
    "\n",
    "# 가로 좌표a, 세로 좌표b, 방향d를 공백을 기준으로 입력 받아 정수형으로 변환 후 변수에 저장\n",
    "a, b, d = map(int, input().split())\n",
    "\n",
    "\n",
    "# 바라 보고 있는 방향에 육지가 있으면 이동한다. \n",
    "# 육지가 아니라면 왼쪽으로 회전한다.\n",
    "\n",
    "# 반복문에서 현재 방향에서 다음 육지로 갈 수 있는지 확인하는 조건문을 생성한다. \n",
    "# 반복문은 다음 육지로 갈 수 없으면 왼쪽으로 회전할 수 있도록 하는 반복문이다. \n",
    "# 만약 4개의 방향으로 모두 갈 수 없다면 종료할 수 있도록 장치를 마련해둔다. \n",
    "\n",
    "# 입력 받을 맵을 저장할 리스트 선언\n",
    "game_map = []\n",
    "\n",
    "# n번 입력을 받아 리스트로 만들고 game_map 리스트(2차원)에 저장\n",
    "for i in range(n):\n",
    "    game_map.append(list(map(int, input().split())))\n",
    "\n",
    "# 방향 이동(반시계방향인 북,서,남,동)의 리스트\n",
    "dir = [0, 3, 2, 1]\n",
    "\n",
    "# 북,서,남,동 방향에 대한 x좌표 변화\n",
    "dx = [-1, 0, 1, 0]\n",
    "\n",
    "# 북,서,남,동 방향에 대한 y좌표 변화\n",
    "dy = [0, 1, 0, -1]\n",
    "\n",
    "\n",
    "# 초기 방향 'd'에 따라서 이동 방향 설정\n",
    "p = dir.index(d)\n",
    "\n",
    "cnt = 1 \n",
    "\n",
    "while True:\n",
    "    game_map[y][x] = 1\n",
    "    wx = x + dx[p]\n",
    "    wy = y + dy[p]\n",
    "\n",
    "    if game_map[wy][wx] == 0:\n",
    "        x = wx\n",
    "        y = wy\n",
    "        game_map[wy][wx] = 1\n",
    "        cnt += 1\n",
    "\n",
    "    if p <= 2:\n",
    "        p += 1\n",
    "    else:\n",
    "        p = 0\n",
    "    \n",
    "    count_n = 0\n",
    "    for i in game_map:\n",
    "        if 0 not in i:\n",
    "            count_n += 1\n",
    "    if count_n == n:\n",
    "        break\n",
    "\n",
    "print(cnt)"
   ]
  },
  {
   "cell_type": "markdown",
   "metadata": {},
   "source": [
    "책 풀이"
   ]
  },
  {
   "cell_type": "code",
   "execution_count": 1,
   "metadata": {},
   "outputs": [
    {
     "name": "stdout",
     "output_type": "stream",
     "text": [
      "4 4\n",
      "1 1 0\n",
      "1 1 1 1\n",
      "1 0 0 1\n",
      "1 1 0 1\n",
      "1 1 1 1\n",
      "3\n"
     ]
    }
   ],
   "source": [
    "# N, M을 공백을 기준으로 구분하여 입력받기\n",
    "n, m = map(int, input().split())\n",
    "\n",
    "# 방문한 위치를 저장하기 위한 맵을 생성하여 0으로 초기화\n",
    "d = [[0] * m for _ in range(n)]\n",
    "# 현재 캐릭터의 X 좌표, Y 좌표, 방향을 입력받기\n",
    "x, y, direction = map(int, input().split())\n",
    "d[x][y] = 1 # 현재 좌표 방문 처리\n",
    "\n",
    "# 전체 맵 정보를 입력받기\n",
    "array = []\n",
    "for i in range(n):\n",
    "    array.append(list(map(int, input().split())))\n",
    "\n",
    "# 북, 동, 남, 서 방향 정의\n",
    "dx = [-1, 0, 1, 0]\n",
    "dy = [0, 1, 0, -1]\n",
    "\n",
    "# 왼쪽으로 회전\n",
    "def turn_left():\n",
    "    global direction\n",
    "    direction -= 1\n",
    "    if direction == -1:\n",
    "        direction = 3\n",
    "\n",
    "# 시뮬레이션 시작\n",
    "count = 1\n",
    "turn_time = 0\n",
    "while True:\n",
    "    # 왼쪽으로 회전\n",
    "    turn_left()\n",
    "    nx = x + dx[direction]\n",
    "    ny = y + dy[direction]\n",
    "    # 회전한 이후 정면에 가보지 않은 칸이 존재하는 경우 이동\n",
    "    if d[nx][ny] == 0 and array[nx][ny] == 0:\n",
    "        d[nx][ny] = 1\n",
    "        x = nx\n",
    "        y = ny\n",
    "        count += 1\n",
    "        turn_time = 0\n",
    "        continue\n",
    "    # 회전한 이후 정면에 가보지 않은 칸이 없거나 바다인 경우\n",
    "    else:\n",
    "        turn_time += 1\n",
    "    # 네 방향 모두 갈 수 없는 경우\n",
    "    if turn_time == 4:\n",
    "        nx = x - dx[direction]\n",
    "        ny = y - dy[direction]\n",
    "        # 뒤로 갈 수 있다면 이동하기\n",
    "        if array[nx][ny] == 0:\n",
    "            x = nx\n",
    "            y = ny\n",
    "        # 뒤가 바다로 막혀있는 경우\n",
    "        else:\n",
    "            break\n",
    "        turn_time = 0\n",
    "\n",
    "# 정답 출력\n",
    "print(count)"
   ]
  },
  {
   "cell_type": "markdown",
   "metadata": {},
   "source": [
    "####"
   ]
  }
 ],
 "metadata": {
  "kernelspec": {
   "display_name": "Python 3 (ipykernel)",
   "language": "python",
   "name": "python3"
  },
  "language_info": {
   "codemirror_mode": {
    "name": "ipython",
    "version": 3
   },
   "file_extension": ".py",
   "mimetype": "text/x-python",
   "name": "python",
   "nbconvert_exporter": "python",
   "pygments_lexer": "ipython3",
   "version": "3.11.5"
  }
 },
 "nbformat": 4,
 "nbformat_minor": 2
}
