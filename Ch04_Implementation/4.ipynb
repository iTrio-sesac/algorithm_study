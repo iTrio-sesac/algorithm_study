{
 "cells": [
  {
   "cell_type": "markdown",
   "metadata": {},
   "source": [
    "### 구현(Implementation)이란?   \n",
    "머릿속에 있는 알고리즘을 소스코드로 바꾸는 과정   \n",
    "풀이를 떠올리는 것은 쉽지만 소스코드로 옮기기 어려운 문제를 구현 유형의 문제라고 한다. \n",
    "\n",
    "구현 유형: \n",
    "* 완전 탐색: 모든 경우의 수를 주저 없이 계산하는 해결 방법\n",
    "* 시뮬레이션: 문제에서 제시한 알고리즘을 한 단계씩 차례대로 직접 수행하는 유형"
   ]
  },
  {
   "cell_type": "markdown",
   "metadata": {},
   "source": [
    "**<예제 4-1. 상하좌우 (시뮬레이션 유형)>**   \n",
    "\n",
    "입력 조건:\n",
    "* 첫째 줄에 공간의 크기를 나타내는 N이 주어진다. (1<= N <= 100)\n",
    "* 둘째 줄에 여행가 A가 이동할 계획서 내용이 주어진다. \n",
    "\n",
    "출력 조건: \n",
    "* 첫째 줄에 여행가 A가 최종적으로 도착할 지점의 좌표(X,Y)를 공백으로 구분하여 출력한다. \n",
    "\n",
    "이때 여행가 A가 N * N 크기의 정사각형 공간을 벗어나는 움직임은 무시된다.   \n",
    "\n",
    "###### 내가 작성한 코드: \n"
   ]
  },
  {
   "cell_type": "code",
   "execution_count": 12,
   "metadata": {},
   "outputs": [
    {
     "name": "stdout",
     "output_type": "stream",
     "text": [
      "3 4\n"
     ]
    }
   ],
   "source": [
    "# 공간의 크기 입력 받아 정수형으로 변환\n",
    "N = int(input())\n",
    "\n",
    "# 공백으로 구분하여 이동할 방향 입력 받기\n",
    "moves = input().split()\n",
    "\n",
    "# 최초 좌표 설정\n",
    "x = 1\n",
    "y = 1\n",
    "\n",
    "# 입력 받은 방향을 하나씩 확인하기\n",
    "for i in moves:\n",
    "    # 만약 i가 L이고 1보다 크면 1 감소하고 다시 y로 할당\n",
    "    if i == 'L':\n",
    "        if y > 1:\n",
    "            y -= 1\n",
    "    # 만약 i가 R이고 공간의 크기보다 작으면 1 증가하고 다시 y로 할당\n",
    "    elif i == 'R':\n",
    "        if y < N: \n",
    "            y += 1\n",
    "    # 만약 i가 U이고 1보다 크면 1 감소하고 다시 x로 할당\n",
    "    elif i == 'U':\n",
    "        if x > 1:\n",
    "            x -= 1\n",
    "    # 만약 i가 D이고 공간의 크기보다 작으면 1 증가하고 다시 x로 할당\n",
    "    elif i == 'D':\n",
    "        if x < N:\n",
    "            x += 1\n",
    "\n",
    "print(x, y)"
   ]
  },
  {
   "cell_type": "markdown",
   "metadata": {},
   "source": [
    "###### 답안 참고한 코드:"
   ]
  },
  {
   "cell_type": "code",
   "execution_count": 15,
   "metadata": {},
   "outputs": [
    {
     "name": "stdout",
     "output_type": "stream",
     "text": [
      "3 4\n"
     ]
    }
   ],
   "source": [
    "n = int(input())\n",
    "\n",
    "x, y = 1, 1\n",
    "\n",
    "plans = input().split()\n",
    "\n",
    "dx = [0, 0, -1, 1]\n",
    "dy = [-1, 1, 0, 0]\n",
    "\n",
    "move_types = ['L', 'R', 'U', 'D']\n",
    "\n",
    "for plan in plans:\n",
    "    for i in range(len(move_types)):\n",
    "        if plan == move_types[i]:\n",
    "            nx = x + dx[i]\n",
    "            ny = y + dy[i]\n",
    "    if nx < 1 or ny < 1 or nx > n or ny > n:\n",
    "        continue\n",
    "    x, y = nx, ny\n",
    "\n",
    "print(x, y)"
   ]
  },
  {
   "cell_type": "markdown",
   "metadata": {},
   "source": [
    "**<예제 4-2. 시각 (완전 탐색 문제 유형)>**   \n",
    "\n",
    "입력 조건:\n",
    "* 첫째 줄에 정수 N이 입력된다. (0 <= N <= 23)\n",
    "\n",
    "출력 조건: \n",
    "* 00시 00분 00초부터 N시 59분 59초까지의 모든 시각 중에서 3이 하나라도 포함되는 모든 경우의 수를 출력한다. \n",
    "\n",
    "\n",
    "###### 내가 작성한 코드: "
   ]
  },
  {
   "cell_type": "code",
   "execution_count": 16,
   "metadata": {},
   "outputs": [
    {
     "data": {
      "text/plain": [
       "11475"
      ]
     },
     "execution_count": 16,
     "metadata": {},
     "output_type": "execute_result"
    }
   ],
   "source": [
    "# 입력 받은 수를 정수형으로 변환\n",
    "n = int(input())\n",
    "\n",
    "# 0부터 59 중 3이 들어가는 수를 저장한 리스트\n",
    "list_3 = [3, 13, 23, 30, 31, 32, 33, 34, 35, 36, 37, 38, 39, 43, 53]\n",
    "\n",
    "# 초기 경우의 수 설정\n",
    "count = 0\n",
    "\n",
    "# 0부터 n시까지의 각 정수에 반복문 실행\n",
    "for hour in range(n+1):\n",
    "    # 0부터 59분까지의 각 정수에 반복문 실행\n",
    "    for minute in range(60):\n",
    "        # 0부터 59초까지의 각 정수에 반복분 실행\n",
    "        for second in range(60):\n",
    "            # 만약 시, 분, 초의 요소가 리스트에 포함된다면 count가 1 증가\n",
    "            if second in list_3 or minute in list_3 or hour in list_3:\n",
    "                count += 1\n",
    "\n",
    "print(count)"
   ]
  },
  {
   "cell_type": "markdown",
   "metadata": {},
   "source": [
    "###### 답안 참고한 코드:"
   ]
  },
  {
   "cell_type": "code",
   "execution_count": 17,
   "metadata": {},
   "outputs": [
    {
     "name": "stdout",
     "output_type": "stream",
     "text": [
      "11475\n"
     ]
    }
   ],
   "source": [
    "n = int(input())\n",
    "\n",
    "count = 0\n",
    "\n",
    "for i in range(n+1):\n",
    "    for j in range(60):\n",
    "        for k in range(60):\n",
    "            if '3' in str(i) + str(j) + str(k):\n",
    "                count += 1\n",
    "\n",
    "print(count)"
   ]
  },
  {
   "cell_type": "markdown",
   "metadata": {},
   "source": [
    "**<예제 4-3. 왕실의 나이트>**   \n",
    "\n",
    "입력 조건:\n",
    "* 첫째 줄에 8 X 8 좌표 평면상에서 현재 나이트가 위치한 곳이 좌표를 나타내는 두 문자로 구성된 문자열이 입력된다. 입력 문자는 a1처럼 열과 행으로 이뤄진다. \n",
    "\n",
    "출력 조건: \n",
    "* 첫째 줄에 나이트가 이동할 수 있는 경우의 수를 출력하시오. \n",
    "\n",
    "\n",
    "###### 내가 작성한 코드: "
   ]
  },
  {
   "cell_type": "code",
   "execution_count": 39,
   "metadata": {},
   "outputs": [
    {
     "name": "stdout",
     "output_type": "stream",
     "text": [
      "8\n"
     ]
    }
   ],
   "source": [
    "# 현재 좌표 입력받기\n",
    "user_input = input()\n",
    "\n",
    "# 문자열의 0번 인덱스는 x, 문자열의 1번 인덱스는 정수형으로 변환 후 y에 할당\n",
    "x = user_input[0]\n",
    "y = int(user_input[1])\n",
    "\n",
    "# 문자열 숫자로 변환\n",
    "if x == 'a':\n",
    "    x = 1\n",
    "elif x == 'b':\n",
    "    x = 2\n",
    "elif x == 'c':\n",
    "    x = 3\n",
    "elif x == 'd':\n",
    "    x = 4\n",
    "elif x == 'e':\n",
    "    x = 5\n",
    "elif x == 'f':\n",
    "    x = 6\n",
    "elif x == 'g':\n",
    "    x = 7\n",
    "elif x == 'h':\n",
    "    x = 8\n",
    "\n",
    "# 이동할 수 있는 경로를 리스트로 저장\n",
    "move_x = [-2, -2, -1, -1, 1, 1, 2, 2 ]\n",
    "move_y = [-1, 1, -2, 2, -2, 2, -1, 1]\n",
    "\n",
    "# 초기 경우의 수 설정\n",
    "count = 0 \n",
    "\n",
    "# 이동할 수 있는 경로의 리스트 요소 개수만큼 반복\n",
    "for i in range(8):\n",
    "    # 입력 받은 x, y에 이동할 수 있는 경로의 인덱스에 해당하는 수를 더하고 새로운 변수로 저장\n",
    "    new_x = x + move_x[i]\n",
    "    new_y = y + move_y[i]\n",
    "    # 만약 아래 조건을 충족하면 count가 1 증가\n",
    "    if new_x >= 1 and new_x <= 8 and new_y >= 1 and new_y <= 8:\n",
    "        count += 1\n",
    "    \n",
    "print(count)"
   ]
  },
  {
   "cell_type": "markdown",
   "metadata": {},
   "source": [
    "###### 답안 참고한 코드:"
   ]
  },
  {
   "cell_type": "code",
   "execution_count": 40,
   "metadata": {},
   "outputs": [
    {
     "name": "stdout",
     "output_type": "stream",
     "text": [
      "2\n"
     ]
    }
   ],
   "source": [
    "input_data = input()\n",
    "row = int(input_data[1])\n",
    "column = int(ord(input_data[0])) - int(ord('a')) + 1\n",
    "\n",
    "steps = [(-2, -1), (-1, -2), (1, -2), (2, -1), (2, 1), (1, 2), (-1, 2), (-2, 1) ]\n",
    "\n",
    "result = 0\n",
    "\n",
    "for step in steps:\n",
    "    next_row = row + step[0]\n",
    "    next_column = column + step[1]\n",
    "\n",
    "    if next_row >= 1 and next_row <= 8 and next_column >= 1 and next_column <= 8:\n",
    "        result += 1\n",
    "\n",
    "print(result)"
   ]
  },
  {
   "cell_type": "markdown",
   "metadata": {},
   "source": [
    "**<예제 4-4. 게임 개발>**   \n",
    "\n",
    "입력 조건:\n",
    "* 첫째 줄에 맵의 세로 크기 N과 가로 크기 M을 공백으로 구분하여 입력한다. (3 <= N, M <= 50)\n",
    "* 둘째 줄에 게임 캐릭터가 있는 칸의 좌표 (A,B)와 바라보는 방향 d가 각각 서로 공백으로 구분하여 주어진다. 방향 d의 값으로는 다음과 같이 4가지가 존재한다. \n",
    "    * 0: 북쪽\n",
    "    * 1: 동쪽\n",
    "    * 2: 남쪽\n",
    "    * 3: 서쪽\n",
    "* 셋째 줄부터 맵이 육지인지 바다인지에 대한 정보가 주어진다. N개의 줄에 맵의 상태가 북쪽부터 남쪽 순서대로, 각 줄의 데이터는 서쪽부터 동쪽 순서대로 주어진다. 맵의 외곽은 항상 바다로 되어 있다. \n",
    "    * 0: 육지\n",
    "    * 1: 바다\n",
    "* 처음에 게임 캐릭터가 위치한 칸의 상태는 항상 육지이다.\n",
    "\n",
    "\n",
    "출력 조건: \n",
    "* 첫째 줄에 이동을 마친 후 캐릭터가 방문한 칸의 수를 출력한다.  \n",
    "\n",
    "\n",
    "###### 내가 작성한 코드: "
   ]
  },
  {
   "cell_type": "code",
   "execution_count": null,
   "metadata": {},
   "outputs": [],
   "source": [
    "# 맵의 세로n, 가로m 크기를 공백을 기준으로 입력 받아 정수형으로 변환 후 변수 저장\n",
    "n, m = map(int, input().split())\n",
    "\n",
    "# 가로 좌표a, 세로 좌표b, 방향d를 공백을 기준으로 입력 받아 정수형으로 변환 후 변수 저장\n",
    "a, b, d = map(int, input().split())\n"
   ]
  },
  {
   "cell_type": "markdown",
   "metadata": {},
   "source": [
    "# "
   ]
  },
  {
   "cell_type": "markdown",
   "metadata": {},
   "source": []
  }
 ],
 "metadata": {
  "kernelspec": {
   "display_name": "base",
   "language": "python",
   "name": "python3"
  },
  "language_info": {
   "codemirror_mode": {
    "name": "ipython",
    "version": 3
   },
   "file_extension": ".py",
   "mimetype": "text/x-python",
   "name": "python",
   "nbconvert_exporter": "python",
   "pygments_lexer": "ipython3",
   "version": "3.11.5"
  }
 },
 "nbformat": 4,
 "nbformat_minor": 2
}
