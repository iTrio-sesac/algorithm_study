{
 "cells": [
  {
   "cell_type": "markdown",
   "metadata": {},
   "source": [
    "### 그리디 알고리즘(탐욕법, Greedy Algorithm)\n",
    "\n",
    "최적화 문제를 해결하는 알고릴즘 중 하나로, \"매 순간, 최적이라 생각되는 해답을 찾으며, 이를 토대로 최종 문제의 해답에 도달\"하는 문제 해결 방식이다.\n",
    "\n",
    "특징:\n",
    "* 단순하고 직관적이며, 구현하기가 비교적 간단하다.\n",
    "* 빠르게 최적해를 도출할 수 있다.  \n",
    "* 그 순간에 대해 지역적으로는 최적이지만, 그 선택들을 계속 수집하여 최종적(전역적)인 해답을 만들었다고 해서, 그것이 최적이라는 보장은 없다."
   ]
  },
  {
   "cell_type": "markdown",
   "metadata": {},
   "source": [
    "***\n",
    "#### 예제 1. 거스름돈\n",
    "\n",
    " 손님에게 거슬러 줘야할 돈이 N원 일때, 거슬러줘야 할 동전의 최소 개수를 구하여라.   \n",
    "(거스름돈으로 사용할 500원, 100원, 50원, 10원짜리의 동전이 무한히 존재한다고 가정)"
   ]
  },
  {
   "cell_type": "code",
   "execution_count": 3,
   "metadata": {},
   "outputs": [
    {
     "name": "stdout",
     "output_type": "stream",
     "text": [
      "6\n"
     ]
    }
   ],
   "source": [
    "# 거슬러줄 돈의 액수를 입력받고 정수형으로 변환 후 변수에 할당\n",
    "n = int(input(\"거슬러 줘야 할 돈을 입력하시오 : \")) \n",
    "\n",
    "# 초기 거스름돈 동전 개수 설정\n",
    "coin_num = 0  \n",
    "\n",
    "# 거스름돈으로 줄 수 있는 동전의 종류\n",
    "coin_type = [500,100,50,10] \n",
    "\n",
    "# 동전의 종류만큼 for문 진행\n",
    "for i in coin_type:\n",
    "    # 거스름돈을 동전으로 나눈 몫을 coin_num에 추가\n",
    "    coin_num = coin_num + (n // i)\n",
    "    # 거스름돈을 동전으로 나눈 나머지를 다시 거스름돈에 할당\n",
    "    n = n % i \n",
    "print(coin_num)"
   ]
  },
  {
   "cell_type": "code",
   "execution_count": null,
   "metadata": {},
   "outputs": [],
   "source": [
    "# 책 풀이\n",
    "\n",
    "# 거스름돈이 1260원일때 동전의 최소 개수\n",
    "n = 1260\n",
    "count = 0\n",
    "\n",
    "coin_types = [500,100,50,10]\n",
    "\n",
    "for coin in coin_types:\n",
    "\tcount += n // coin\n",
    "\tn %= coin\n",
    "\n",
    "print(count)"
   ]
  },
  {
   "cell_type": "markdown",
   "metadata": {},
   "source": [
    "***\n",
    "\n",
    "#### 예제 2. 큰 수의 법칙\n",
    "\n",
    " 다양한 수로 이루어진 배열, 주어진 수를 M번 더하여 가장 큰 수 만들기.\n",
    " (단, 배열의 특정한 인덱스에 해당하는 수가 연속해서 K번을 초과하여 더해질 수 없음)\n",
    "\n",
    "입력 조건   \n",
    "* 첫째 줄에 N(2 <= N <= 1000), M(1 <= M <= 10000), K(1 <= K <= 10000)의 자연수가 주어지며, 각 자연수는 공백으로 구분한다.\n",
    "* 둘째 줄에 N개의 자연수가 주어진다. 각 자연수는 공백으로 구분한다. 단, 각각의 자연수는 1 이상 10000이하의 수로 주어진다\n",
    "* 입력으로 주어지는 K <= M\n",
    "\n",
    "출력 조건\n",
    "*  첫째 줄에 큰 수의 법칙에 따라 더해진 답 출력"
   ]
  },
  {
   "cell_type": "code",
   "execution_count": 2,
   "metadata": {},
   "outputs": [
    {
     "data": {
      "text/plain": [
       "46"
      ]
     },
     "execution_count": 2,
     "metadata": {},
     "output_type": "execute_result"
    }
   ],
   "source": [
    "# 입력 받은 수를 공백으로 구분한 후 정수형 변환하여 세 변수 n, m, k에 할당. 배열의 크기n, 숫자가 더해지는 횟수m, 하나의 숫자를 연속으로 더할 수 있는 횟수k\n",
    "n, m, k = map(int, input().split())\n",
    "\n",
    "# 입력받은 배열을 공백으로 구분한 후 정수형으로 변환하여 리스트로 만든다\n",
    "num_list = list(map(int, input().split()))\n",
    "\n",
    "# 리스트를 내림차순으로 정렬\n",
    "num_list.sort(reverse = True)\n",
    "\n",
    "# 결과값을 저장할 변수 설정\n",
    "result = 0\n",
    "\n",
    "# 인덱스 0이 가장 큰 수, 인덱스 1이 두 번째로 큰 수\n",
    "max_1 = num_list[0]\n",
    "max_2 = num_list[1]\n",
    "\n",
    "# 반복문\n",
    "while True: \n",
    "    # k번 반복 진행\n",
    "    for i in range(k):\n",
    "        # 만약 m이 0이면 if문 종료\n",
    "        if m == 0:\n",
    "            break\n",
    "        # 결과값에 가장 큰 수를 더하고 다시 결과값에 할당\n",
    "        result = result + max_1\n",
    "        # 숫자가 더해질 때마다 횟수가 하나씩 감소\n",
    "        m = m - 1\n",
    "    # 만약 mdl 0이면 if문 종료\n",
    "    if m == 0:\n",
    "        break\n",
    "    # 결과값에 두 번째로 큰 수 더하고 다시 결과값에 할당\n",
    "    result = result + max_2\n",
    "    # 숫자가 더해질 때마다 횟수가 하나씩 감소\n",
    "    m = m - 1\n",
    "\n",
    "result"
   ]
  },
  {
   "cell_type": "code",
   "execution_count": 3,
   "metadata": {},
   "outputs": [
    {
     "name": "stdout",
     "output_type": "stream",
     "text": [
      "46\n"
     ]
    }
   ],
   "source": [
    "# 책 풀이\n",
    "n, m, k = map(int, input().split())\n",
    "data = list(map(int, input().split()))\n",
    "\n",
    "data.sort()\n",
    "first = data[n-1]\n",
    "second = data[n-2]\n",
    "\n",
    "count = int(m/(k+1)) * k\n",
    "count += m % (k+1)\n",
    "\n",
    "result = 0 \n",
    "result += (count) * first\n",
    "result += (m-count) * second\n",
    "\n",
    "print(result)"
   ]
  },
  {
   "cell_type": "markdown",
   "metadata": {},
   "source": [
    "*** \n",
    "\n",
    "#### 예제 3. 숫자 카드 게임\n",
    "\n",
    "여러개의 숫자 카드 중에서 가장 높은 숫자가 쓰인 카드 한 장 뽑기. 게임 룰은 다음과 같다.\n",
    " \n",
    " 1) 숫자가 쓰인 카드들이 N*M형태로 놓여 있으며 N은 행, M은 열\n",
    " 2) 먼저 뽑고자 하는 카드가 포함되어 있는 행을 선택\n",
    " 3) 그다음 선택된 행에 포함된 카드들 중 가장 숫자가 낮은 카드 뽑기\n",
    " 4) 처음에 카드를 골라낼 행을 선택할 때, 이후에 해당 행에서 가장 숫자가 낮은 카드를 뽑을 것을 고려하여 최종적으로 가장 높은 숫자의 카드를 뽑을 수 있도록 전략 세움\n",
    "\n",
    "\n",
    "입력조건\n",
    "* 첫째 줄에 숫자 카드들이 놓인 행의 개수 N과 열의 개수 M이 공백을 기준으로 하여 각각 자연수로 주어진다(1 <= N,M <= 100)\n",
    "* 둘째 줄부터 N개의 줄에 걸쳐 각 카드에 적힌 숫자가 주어진다. 각 숫자는 1 이상 10000이하의 자연수이다.\n",
    " \n",
    "출력조건\n",
    " * 첫째 줄에 게임의 룰에 맞게 선택한 카드에 적힌 숫자를 출력한다."
   ]
  },
  {
   "cell_type": "code",
   "execution_count": null,
   "metadata": {},
   "outputs": [],
   "source": [
    "# 입력 받은 수를 공백으로 구분 후 정수형 변환하여 변수에 할당. 행의 수n, 열의 수m\n",
    "n, m = map(int, input().split())\n",
    "\n",
    "# 최소값을 저장할 리스트 생성\n",
    "result = []\n",
    "\n",
    "# 행의 수 만큼 반복 \n",
    "for i in range(n):\n",
    "    # 입력 받은 수를 공백으로 구분 후 정수형 변환하여 리스트에 저장\n",
    "    card_row = list(map(int, input().split()))\n",
    "    # 최소값을 리스트에 추가\n",
    "    result.append(min(card_row))\n",
    "\n",
    "# 리스트에서 최대값 출력\n",
    "max(result)"
   ]
  },
  {
   "cell_type": "code",
   "execution_count": null,
   "metadata": {},
   "outputs": [],
   "source": [
    "# min()함수 이용한 답안 예시\n",
    "n,m = map(int,input().split())\n",
    "result = 0\n",
    "\n",
    "# 1차원 리스트 받아서 각 줄에서 최소값 비교 후 그 중 가장 큰 값 출력\n",
    "for i in range(n):\n",
    "  data = list(map(int, input().split()))\n",
    "  # 현재 줄에서 가장 작은 수 찾기\n",
    "  min_value = min(data)\n",
    "  # '가장 작은 수'들 중에서 가장 큰 수 찾기\n",
    "  result = max(result, min_value)\n",
    "\n",
    "print(result)"
   ]
  },
  {
   "cell_type": "code",
   "execution_count": null,
   "metadata": {},
   "outputs": [],
   "source": [
    "# 2중 반복문 구조를 이용한 답안 예시\n",
    "n,m = map(int,input().split())\n",
    "result = 0\n",
    "\n",
    "for i in range(n):\n",
    "  data = list(map(int, input().split()))\n",
    "  # 현재 줄에서 가장 작은 수 찾기\n",
    "  min_value = 10001\n",
    "  for a in data:\n",
    "    min_value = min(min_value, a)\n",
    "  result = max(result, min_value)\n",
    "print(result)"
   ]
  },
  {
   "cell_type": "markdown",
   "metadata": {},
   "source": [
    "***\n",
    "\n",
    "#### 예제 4. 1일 될 때까지\n",
    "\n",
    "어떠한 수 N이 1이 될 때까지 다음의 두 과정 중 하나를 반복적으로 선택하여 수행하려고 한다. 단, 두 번째 연산은 N이 K로 나누어떨어질 때만 선택할 수 있다.\n",
    " \n",
    " 1) N에서 1을 뺀다.\n",
    " 2) N을 K로 나눈다.\n",
    " \n",
    "N과 K가 주어질 때 N이 1이 될 때까지 1번 혹은 2번의 과정을 수행해야 하는 최소 횟수를 구하는 프로그램을 작성하시오.\n",
    " \n",
    "입력 조건\n",
    "* 첫째 줄에 N(2<= N <= 100000)과 K(2 <= K <= 100000)가 공백으로 구분되며 각각 자연수로 주어진다. 이때 입력으로 주어지는 N은 항상 K보다 크거나 같다.\n",
    " \n",
    "출력 조건\n",
    "* 첫째 줄에 N이 1이 될 때까지 1번 혹은 2번의 과정을 수행해야 하는 횟수의 최솟값을 출력한다."
   ]
  },
  {
   "cell_type": "code",
   "execution_count": null,
   "metadata": {},
   "outputs": [],
   "source": [
    "# 입력 받은 수를 공백으로 구분 후 정수형 변환하여 변수에 할당\n",
    "n, k = map(int, input().split())\n",
    "\n",
    "# 계산 횟수 초기값 설정 \n",
    "count = 0\n",
    "\n",
    "# n이 1이 될 때까지 반복\n",
    "while n > 1:\n",
    "    # n이 k로 나누어 떨어지면 \n",
    "    if n % k == 0:\n",
    "        # n을 k로 나눈 후 다시 n으로 할당\n",
    "        n = n / k \n",
    "        count = count + 1\n",
    "    else:\n",
    "        n = n - 1 \n",
    "        count = count + 1\n",
    "\n",
    "# 다시 n이 k로 나누어지면 1일 될 때 반복 진행\n",
    "\n",
    "count"
   ]
  },
  {
   "cell_type": "code",
   "execution_count": null,
   "metadata": {},
   "outputs": [],
   "source": [
    "# 책 풀이\n",
    "# 단순하게 푸는 답안 예시_1\n",
    "n,k = map(int, input().split())\n",
    "result = 0\n",
    "\n",
    "# N이 K 이상이라면 K로 계속 나누기\n",
    "while n >= k:\n",
    "  # N이 K로 나누어 떨어지지 않는다면 N에서 1씩 빼기\n",
    "  while n % k != 0:\n",
    "    n -= 1\n",
    "    result += 1\n",
    "  # K로 나누기\n",
    "  n //= k\n",
    "  result += 1\n",
    "\n",
    "# 마지막으로 남은 수에 대하여 1씩 빼기\n",
    "while n > 1:\n",
    "  n -= 1\n",
    "  result += 1\n",
    "\n",
    "print(result)"
   ]
  }
 ],
 "metadata": {
  "kernelspec": {
   "display_name": "base",
   "language": "python",
   "name": "python3"
  },
  "language_info": {
   "codemirror_mode": {
    "name": "ipython",
    "version": 3
   },
   "file_extension": ".py",
   "mimetype": "text/x-python",
   "name": "python",
   "nbconvert_exporter": "python",
   "pygments_lexer": "ipython3",
   "version": "3.11.5"
  }
 },
 "nbformat": 4,
 "nbformat_minor": 2
}
