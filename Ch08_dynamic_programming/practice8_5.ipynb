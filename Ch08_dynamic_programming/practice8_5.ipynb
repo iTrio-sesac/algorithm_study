{
 "cells": [
  {
   "cell_type": "code",
   "execution_count": 23,
   "metadata": {},
   "outputs": [
    {
     "name": "stdout",
     "output_type": "stream",
     "text": [
      "5\n"
     ]
    }
   ],
   "source": [
    "# 필요한 변수들을 받아온다.\n",
    "\n",
    "n, m = map(int, input().split())\n",
    "money = [int(input()) for _ in range(n)]\n",
    "\n",
    "# 가지고 있는 화폐 단위로는 만들 수 없는 금액을 구별하기 위해 초기값을 10001로 설정.\n",
    "# d의 인덱스 값을 목표로 하는 금액으로 생각.\n",
    "d = [10001]*(m+1)\n",
    "\n",
    "# 0원을 만들 수 있는 화폐 개수는 0이므로 설정.\n",
    "d[0] = 0\n",
    "\n",
    "# 가지고 있는 화폐 단위별로 반복문 수행\n",
    "for k in money:\n",
    "    # 화폐단위에 해당하는 위치부터 d 배열 끝까지\n",
    "    for i in range(k,m+1):\n",
    "        # 금액 i를 만들때 필요한 화폐 개수와 i-k를 만들때의 개수를 비교해 작은값 채택\n",
    "        d[i] = min(d[i-k] + 1, d[i])\n",
    "\n",
    "if d[m] == 10001:\n",
    "    print('-1')\n",
    "else:\n",
    "    print(d[m])"
   ]
  },
  {
   "cell_type": "code",
   "execution_count": null,
   "metadata": {},
   "outputs": [],
   "source": []
  }
 ],
 "metadata": {
  "kernelspec": {
   "display_name": "yoonkt",
   "language": "python",
   "name": "python3"
  },
  "language_info": {
   "codemirror_mode": {
    "name": "ipython",
    "version": 3
   },
   "file_extension": ".py",
   "mimetype": "text/x-python",
   "name": "python",
   "nbconvert_exporter": "python",
   "pygments_lexer": "ipython3",
   "version": "3.9.7"
  }
 },
 "nbformat": 4,
 "nbformat_minor": 2
}
