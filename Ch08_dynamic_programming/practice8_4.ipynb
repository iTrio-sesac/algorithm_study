{
 "cells": [
  {
   "cell_type": "code",
   "execution_count": 5,
   "metadata": {},
   "outputs": [
    {
     "name": "stdout",
     "output_type": "stream",
     "text": [
      "5\n"
     ]
    }
   ],
   "source": [
    "n = int(input())\n",
    "d = [0]*(n+1)\n",
    "\n",
    "d[1] = 1\n",
    "d[2] = 3\n",
    "\n",
    "if n == 1:\n",
    "    print(d[1])    \n",
    "elif n == 2:\n",
    "    print(d[2])\n",
    "else:\n",
    "    for i in range(3, n+1):\n",
    "        d[i] = (d[i-1] + d[i-2]*2) % 796796\n",
    "    print(d[n])"
   ]
  },
  {
   "cell_type": "code",
   "execution_count": null,
   "metadata": {},
   "outputs": [],
   "source": []
  }
 ],
 "metadata": {
  "kernelspec": {
   "display_name": "yoonkt",
   "language": "python",
   "name": "python3"
  },
  "language_info": {
   "codemirror_mode": {
    "name": "ipython",
    "version": 3
   },
   "file_extension": ".py",
   "mimetype": "text/x-python",
   "name": "python",
   "nbconvert_exporter": "python",
   "pygments_lexer": "ipython3",
   "version": "3.9.7"
  }
 },
 "nbformat": 4,
 "nbformat_minor": 2
}
