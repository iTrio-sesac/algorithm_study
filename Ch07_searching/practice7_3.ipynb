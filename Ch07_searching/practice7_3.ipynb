{
 "cells": [
  {
   "cell_type": "code",
   "execution_count": 16,
   "metadata": {},
   "outputs": [],
   "source": [
    "n,m = map(int, input().split())\n",
    "ttuck = list(map(int, input().split()))"
   ]
  },
  {
   "cell_type": "code",
   "execution_count": 17,
   "metadata": {},
   "outputs": [
    {
     "name": "stdout",
     "output_type": "stream",
     "text": [
      "15\n"
     ]
    }
   ],
   "source": [
    "def length(array, mid):\n",
    "    sum = 0\n",
    "    for i in array:\n",
    "        if i - mid > 0:  # 절단기 높이에 못미치는 떡이 있을 경우는 제외\n",
    "            sum += i - mid\n",
    "    return sum\n",
    "\n",
    "\n",
    "def binary_search(array, target, start, end):\n",
    "    mid = (start + end) // 2\n",
    "    cut = length(array, mid)\n",
    "\n",
    "    if cut >= target:\n",
    "        while True:\n",
    "            start = mid + 1\n",
    "            mid = (start + end) // 2\n",
    "            temp_cut = length(array, mid)\n",
    "            if temp_cut < target:\n",
    "                break\n",
    "        return start - 1\n",
    "    \n",
    "    if cut < target:\n",
    "        while True:\n",
    "            end = mid - 1\n",
    "            mid = (start + end) // 2\n",
    "            temp_cut = length(array, mid)\n",
    "            if temp_cut >= target:\n",
    "                break\n",
    "        return end + 1\n",
    "    \n",
    "\n",
    "# 이진 탐색을 위한 시작점과 끝점 설정\n",
    "start = 0\n",
    "end = max(ttuck)\n",
    "\n",
    "# 이진 탐색 수행 (반복적)\n",
    "result = 0\n",
    "while(start <= end):\n",
    "    total = 0\n",
    "    mid = (start + end) // 2\n",
    "    for x in ttuck:\n",
    "        # 잘랐을 때의 떡볶이 양 계산\n",
    "        if x > mid:\n",
    "            total += x - mid\n",
    "    # 떡볶이 양이 부족한 경우 더 많이 자르기 (오른쪽 부분 탐색)\n",
    "    if total < m:\n",
    "        end = mid - 1\n",
    "    # 떡볶이 양이 충분한 경우 덜 자르기 (왼쪽 부분 탐색)\n",
    "    else:\n",
    "        result = mid # 최대한 덜 잘랐을 때가 정답이므로, 여기에서 result에 기록\n",
    "        start = mid + 1\n",
    "\n",
    "# 정답 출력\n",
    "print(result)"
   ]
  },
  {
   "cell_type": "code",
   "execution_count": 20,
   "metadata": {},
   "outputs": [
    {
     "data": {
      "text/plain": [
       "12"
      ]
     },
     "execution_count": 20,
     "metadata": {},
     "output_type": "execute_result"
    }
   ],
   "source": [
    "binary_search(ttuck, m, 1, max(ttuck))"
   ]
  },
  {
   "cell_type": "code",
   "execution_count": null,
   "metadata": {},
   "outputs": [],
   "source": []
  }
 ],
 "metadata": {
  "kernelspec": {
   "display_name": "yoonkt",
   "language": "python",
   "name": "python3"
  },
  "language_info": {
   "codemirror_mode": {
    "name": "ipython",
    "version": 3
   },
   "file_extension": ".py",
   "mimetype": "text/x-python",
   "name": "python",
   "nbconvert_exporter": "python",
   "pygments_lexer": "ipython3",
   "version": "3.9.7"
  }
 },
 "nbformat": 4,
 "nbformat_minor": 2
}
